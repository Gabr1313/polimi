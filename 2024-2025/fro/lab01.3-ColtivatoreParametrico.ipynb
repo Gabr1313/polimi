{
 "cells": [
  {
   "cell_type": "markdown",
   "id": "c7d91530",
   "metadata": {
    "id": "c7d91530"
   },
   "source": [
    "# Esempio di modello parametrico: il coltivatore\n",
    "\n",
    "In questa sessione cercheremo di modellare e risolvere una versione del problema del coltivatore che avete visto a lezione. Useremo un approccio più generale, quello parametrico, in cui i parametri del modello possono essere letti ad esempio da un database.\n",
    "\n",
    "Riportiamo per comodità il testo del problema e la sua rappresentazione."
   ]
  },
  {
   "cell_type": "markdown",
   "id": "7a017746",
   "metadata": {
    "id": "7a017746"
   },
   "source": [
    "Un coltivatore ha a disposizione 12 ettari di terreno da coltivare a lattuga\n",
    "o a patate. Le risorse a sua disposizione, oltre al terreno, sono: 70 kg di\n",
    "semi di lattuga, 18 t di tuberi e 160 t di stallatico per concimare il\n",
    "terreno. Supponendo che il mercato sia in grado di assorbire tutta la\n",
    "produzione e che i prezzi siano stabili, la resa stimata della coltivazione a\n",
    "lattuga è di 3000 euro per ettaro e quella delle patate è di 5000 euro per\n",
    "ettaro. La richiesta di risorse è di 7 kg di semi e 10 t di stallatico per\n",
    "ettaro di lattuga, e 3 t di tuberi e 20 di stallatico per le patate. Il\n",
    "coltivatore deve stabilire quanto terreno destinare a lattuga e quanto a\n",
    "patate in modo da massimizzare la resa economica sfruttando al meglio\n",
    "le risorse disponibili.\n",
    "\n",
    "Elemento|Consumo per ettaro a lattuga|Consumo per ettaro a patate|Disponibilità massima\n",
    "-|-|-|-|\n",
    "Terreno|1|1|12\n",
    "Semi di lattuga|7|/|70\n",
    "Tuberi|/|3|18\n",
    "Stallatico|10|20|160\n",
    "\n",
    "Il rendimento per ettaro a lattuga è di 3000 euro, per ogni ettaro a patate invece il ricavo è 5000.  Formulate il problema di quanti ettari coltivare a patate e quanti a lattuga per assimizzare il profitto del coltivatore."
   ]
  },
  {
   "cell_type": "markdown",
   "id": "719e58a4",
   "metadata": {
    "id": "719e58a4"
   },
   "source": [
    "Questo problema può essere modellato in modo semplice. In primo luogo, la decisione principale consiste in due quantità: il numero di ettari a lattuga e di ettari a patate. A queste quantità assegniamo due variabili $x_L$ e $x_P$.\n",
    "\n",
    "Successivamente, il modello di ottimizzazione avrà $3000 x_L + 5000 x_P$ come funzione obiettivo, che dovrebbe essere massimizzata. Infine, i vincoli sono dati da ciascuna risorsa scarsa (terreno, stallatico, ecc.). È possibile assegnare un vincolo per ogni risorsa. Ad esempio, dato che ci sono 160 t di stallatico in totale e la lattuga ne usa 10 per ogni ettaro mentre le patate ne usano 20, ne si deriva il vincolo ne usa uno mentre M2 ne usa due, ciò implica il vincolo\n",
    "\n",
    "$$\n",
    "10x_L + 20x_p\\le 160\n",
    "$$\n",
    "\n",
    "E allo stesso modo, possiamo costruire vincoli per tutte le altre risorse. Le due variabili $x_L$ e $x_P$ devono ovviamente essere non negative e intere. Il modello finale può essere scritto come segue:\n",
    "\n",
    "$$\n",
    "\\begin{array}{llll}\n",
    "\\max & 3000 x_L + 5000 x_P\\\\\n",
    "\\textrm{s.t.} &   x_L + x_P & \\le 12 \\\\\n",
    "              & 7 x_L & \\le 70 \\\\\n",
    "              & 3 x_P & \\le 18 \\\\\n",
    "              & 10  x_1 + 20 x_2 & \\le 160 \\\\\n",
    "              & x_1, x_2 ≥ 0.\n",
    "\\end{array}\n",
    "$$\n",
    "\n",
    "Equivalentemente, possiamo effettuare un po' di semplificazioni: otterremo gli stessi valori delle variabili decisionali anche con il modello\n",
    "\n",
    "$$\n",
    "\\begin{array}{llll}\n",
    "\\max & 3x_L + 5 x_P\\\\\n",
    "\\textrm{s.t.} &   x_L + x_P & \\le 12 \\\\\n",
    "              &  x_L & \\le 10 \\\\\n",
    "              &  x_P & \\le 6 \\\\\n",
    "              &  x_1 + 2 x_2 & \\le 16 \\\\\n",
    "              & x_1, x_2 ≥ 0.\n",
    "\\end{array}\n",
    "$$"
   ]
  },
  {
   "cell_type": "markdown",
   "id": "50493198",
   "metadata": {
    "id": "50493198"
   },
   "source": [
    "In forma matriciale, possiamo anche definire\n",
    "\n",
    "$$\n",
    "x = \\left(\\begin{array}{l}x_L\\\\x_P\\end{array}\\right);\\qquad\n",
    "c = \\left(\\begin{array}{r}3\\\\5\\end{array}\\right);\\qquad\n",
    "A = \\left(\\begin{array}{rr}1&1\\\\1&0\\\\0&6\\\\1&2\\\\\\end{array}\\right);\\qquad\n",
    "b = \\left(\\begin{array}{r}12\\\\10\\\\6\\\\16\\\\\\end{array}\\right)\n",
    "$$\n",
    "\n",
    "e il modello può essere scritto equivalentemente come\n",
    "\n",
    "$$\n",
    "\\begin{array}{lll}\n",
    "\\max          & c^T x\\\\\n",
    "\\textrm{s.t.} & A x \\le b\\\\\n",
    "              & x \\in \\mathbb Z_+^2\n",
    "\\end{array}\n",
    "$$\n",
    "\n",
    "Siamo pronti a creare un problema di ottimizzazione usando `mip`. Scriviamo una versione più generale in cui i dati sono specificati separatamente, in modo che possano essere letti anche da un file. Si noti che l'utilizzo dei componenti può essere creato come una \"matrice\" 4x2 semplicemente creando un elenco di quattro elementi, ciascuno dei quali è un elenco di due valori."
   ]
  },
  {
   "cell_type": "code",
   "execution_count": null,
   "id": "758fece3",
   "metadata": {
    "colab": {
     "base_uri": "https://localhost:8080/",
     "height": 346
    },
    "executionInfo": {
     "elapsed": 12894,
     "status": "ok",
     "timestamp": 1663706611698,
     "user": {
      "displayName": "Martina Doneda",
      "userId": "16137246309967274493"
     },
     "user_tz": -120
    },
    "id": "758fece3",
    "outputId": "810a3d68-dfc8-4da9-a205-5002e59521e1"
   },
   "outputs": [
    {
     "name": "stdout",
     "output_type": "stream",
     "text": [
      "Looking in indexes: https://pypi.org/simple, https://us-python.pkg.dev/colab-wheels/public/simple/\n",
      "Collecting mip\n",
      "  Downloading mip-1.14.1-py3-none-any.whl (15.3 MB)\n",
      "\u001b[K     |████████████████████████████████| 15.3 MB 3.7 MB/s \n",
      "\u001b[?25hCollecting cffi==1.15.0\n",
      "  Downloading cffi-1.15.0-cp37-cp37m-manylinux_2_12_x86_64.manylinux2010_x86_64.whl (427 kB)\n",
      "\u001b[K     |████████████████████████████████| 427 kB 62.5 MB/s \n",
      "\u001b[?25hRequirement already satisfied: pycparser in /usr/local/lib/python3.7/dist-packages (from cffi==1.15.0->mip) (2.21)\n",
      "Installing collected packages: cffi, mip\n",
      "  Attempting uninstall: cffi\n",
      "    Found existing installation: cffi 1.15.1\n",
      "    Uninstalling cffi-1.15.1:\n",
      "      Successfully uninstalled cffi-1.15.1\n",
      "Successfully installed cffi-1.15.0 mip-1.14.1\n"
     ]
    },
    {
     "data": {
      "application/vnd.colab-display-data+json": {
       "pip_warning": {
        "packages": [
         "cffi"
        ]
       }
      }
     },
     "metadata": {},
     "output_type": "display_data"
    }
   ],
   "source": [
    "# Controllate se vi serve ripetere questo comendo, altrimenti ignoratelo\n",
    "!pip install mip"
   ]
  },
  {
   "cell_type": "code",
   "execution_count": null,
   "id": "a2c82bbe",
   "metadata": {
    "id": "a2c82bbe"
   },
   "outputs": [],
   "source": [
    "import mip\n",
    "\n",
    "n_model = 2\n",
    "n_component = 4\n",
    "\n",
    "c = [3, 5]\n",
    "\n",
    "A = [[1,1],\n",
    "     [1,0],\n",
    "     # TODO: completate la matrice]\n",
    "\n",
    "b = [12,10,6,16]"
   ]
  },
  {
   "cell_type": "markdown",
   "id": "ad36be21",
   "metadata": {
    "id": "ad36be21"
   },
   "source": [
    "Ora creiamo un modello vuoto e aggiungiamo le due variabili intere $[x_L,x_P]$. Per comodità, le indicheremo equivalentemente con $[x_1,x_2]$\n",
    "\n"
   ]
  },
  {
   "cell_type": "code",
   "execution_count": null,
   "id": "7d699e69",
   "metadata": {
    "id": "7d699e69"
   },
   "outputs": [],
   "source": [
    "m = mip.Model()\n",
    "x = [m.add_var(var_type=mip.INTEGER) for i in range(n_model)]"
   ]
  },
  {
   "cell_type": "markdown",
   "id": "e8d1844b",
   "metadata": {
    "id": "e8d1844b"
   },
   "source": [
    "Scriviamo la funzione obiettivo: nel caso generale, può essere scritta come somma su `n_model`."
   ]
  },
  {
   "cell_type": "code",
   "execution_count": null,
   "id": "200e0e49",
   "metadata": {
    "id": "200e0e49"
   },
   "outputs": [],
   "source": [
    "m.objective = mip.maximize(mip.xsum(c[i]*x[i] for i in range(n_model)))"
   ]
  },
  {
   "cell_type": "markdown",
   "id": "ccc428de",
   "metadata": {
    "id": "ccc428de"
   },
   "source": [
    "I vincoli possono essere generati con un loop."
   ]
  },
  {
   "cell_type": "code",
   "execution_count": null,
   "id": "52a00c08",
   "metadata": {
    "id": "52a00c08"
   },
   "outputs": [],
   "source": [
    "for j in range(n_component):\n",
    "    m += mip.xsum(A[j][i]*x[i] # += significa add constrain"
   ]
  },
  {
   "cell_type": "markdown",
   "id": "7b39734c",
   "metadata": {
    "id": "7b39734c"
   },
   "source": [
    "Il modello è completo. Risolviamolo e stampiamo la soluzione ottimale.\n",
    "\n",
    "\n"
   ]
  },
  {
   "cell_type": "code",
   "execution_count": null,
   "id": "b0e738d4",
   "metadata": {
    "id": "b0e738d4"
   },
   "outputs": [],
   "source": [
    "m.optimize()\n",
    "\n",
    "# Stampa il valore di (.x) di ogni variabile\n",
    "print([x[i].x for i in range(n_model)])"
   ]
  },
  {
   "cell_type": "markdown",
   "id": "58d4ab43",
   "metadata": {
    "id": "58d4ab43"
   },
   "source": [
    "Riportiamo il modello intero per completezza"
   ]
  },
  {
   "cell_type": "code",
   "execution_count": 15,
   "id": "a4fiGnMPr8Bh",
   "metadata": {
    "id": "a4fiGnMPr8Bh"
   },
   "outputs": [
    {
     "name": "stdout",
     "output_type": "stream",
     "text": [
      "Cgl0004I processed model has 2 rows, 2 columns (2 integer (0 of which binary)) and 4 elements\n",
      "Coin3009W Conflict graph built in 0.000 seconds, density: 0.000%\n",
      "Cgl0015I Clique Strengthening extended 0 cliques, 0 were dominated\n",
      "Cbc0045I Nauty did not find any useful orbits in time 3.9e-05\n",
      "Cbc0012I Integer solution of -44 found by DiveCoefficient after 0 iterations and 0 nodes (0.00 seconds)\n",
      "Cbc0001I Search completed - best objective -44, took 0 iterations and 0 nodes (0.00 seconds)\n",
      "Cbc0035I Maximum depth 0, 0 variables fixed on reduced cost\n",
      "Total time (CPU seconds):       0.00   (Wallclock seconds):       0.00\n",
      "\n",
      "Starting solution of the Linear programming relaxation problem using Primal Simplex\n",
      "\n",
      "Clp0024I Matrix will be packed to eliminate 2 small elements\n",
      "Coin0506I Presolve 2 (-4) rows, 2 (0) columns and 4 (-4) elements\n",
      "Clp1000I sum of infeasibilities 1.15001e-11 - average 5.75007e-12, 0 fixed columns\n",
      "Coin0506I Presolve 2 (0) rows, 2 (0) columns and 4 (0) elements\n",
      "Clp0006I 0  Obj 44 Dual inf 800 (2)\n",
      "Clp0029I End of values pass after 2 iterations\n",
      "Clp0000I Optimal - objective value 44\n",
      "Clp0000I Optimal - objective value 44\n",
      "Clp0000I Optimal - objective value 44\n",
      "Coin0511I After Postsolve, objective 44, infeasibilities - dual 0 (0), primal 0 (0)\n",
      "Clp0032I Optimal objective 44 - 0 iterations time 0.002, Presolve 0.00, Idiot 0.00\n",
      "\n",
      "Starting MIP optimization\n",
      "[8.0, 4.0]\n"
     ]
    }
   ],
   "source": [
    "import mip\n",
    "\n",
    "n_model = 2\n",
    "n_component = 4\n",
    "\n",
    "c = [3, 5]\n",
    "\n",
    "A = [[1,1],\n",
    "     [1,0],\n",
    "     [0,1],\n",
    "     [1,2]]\n",
    "b = [12,10,6,16]\n",
    "     \n",
    "m = mip.Model()\n",
    "x = [m.add_var(var_type=mip.INTEGER) for i in range(n_model)]\n",
    "     \n",
    "m.objective = mip.maximize(mip.xsum(c[i]*x[i] for i in range(n_model)))\n",
    "    \n",
    "for i in range(n_model):\n",
    "    m.add_constr(x[i] >= 0)\n",
    "    \n",
    "for j in range(n_component):\n",
    "    m += mip.xsum(A[j][i]*x[i] for i in range(n_model)) <= b[j]\n",
    "\n",
    "m.optimize()\n",
    "\n",
    "# Stampa il valore di (.x) di ogni variabile\n",
    "print([x[i].x for i in range(n_model)])"
   ]
  }
 ],
 "metadata": {
  "colab": {
   "provenance": []
  },
  "kernelspec": {
   "display_name": "Python 3 (ipykernel)",
   "language": "python",
   "name": "python3"
  },
  "language_info": {
   "codemirror_mode": {
    "name": "ipython",
    "version": 3
   },
   "file_extension": ".py",
   "mimetype": "text/x-python",
   "name": "python",
   "nbconvert_exporter": "python",
   "pygments_lexer": "ipython3",
   "version": "3.12.6"
  }
 },
 "nbformat": 4,
 "nbformat_minor": 5
}
