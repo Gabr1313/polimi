{
 "cells": [
  {
   "cell_type": "markdown",
   "id": "95433eb4",
   "metadata": {
    "id": "95433eb4"
   },
   "source": [
    "# Introduzione al modulo `mip`\n",
    "\n",
    "Il modulo che più utilizzeremo in questo corso è il modulo `mip`, che consente di creare, manipolare e risolvere modelli di ottimizzazione con vincoli lineari e variabili intere, binarie o continue. Per maggiori informazioni, consultate l'[homepage](https://www.python-mip.com) del modulo per un accesso completo alla documentazione e per ogni aggiornamento.\n",
    "Immaginiamo di voler modellare il problema seguente:\n",
    "$$\n",
    "\\begin{array}{ll}\n",
    "  \\max & x_1 + x_2\\\\\n",
    "  \\textrm{s.t.} & 2 x_1 + x_2 \\le 10\\\\\n",
    "  & x_1, x_2 \\ge 0\n",
    "\\end{array}\n",
    "$$\n",
    "Iniziamo importando il modulo `mip` in Python."
   ]
  },
  {
   "cell_type": "code",
   "execution_count": 1,
   "id": "f51aba32",
   "metadata": {
    "colab": {
     "base_uri": "https://localhost:8080/",
     "height": 356
    },
    "executionInfo": {
     "elapsed": 13483,
     "status": "ok",
     "timestamp": 1664541667770,
     "user": {
      "displayName": "Martina Doneda",
      "userId": "16137246309967274493"
     },
     "user_tz": -120
    },
    "id": "f51aba32",
    "outputId": "c4dfb560-e8ad-43ac-9019-9118a919a7aa"
   },
   "outputs": [
    {
     "name": "stdout",
     "output_type": "stream",
     "text": [
      "Looking in indexes: https://pypi.org/simple, https://us-python.pkg.dev/colab-wheels/public/simple/\n",
      "Collecting mip\n",
      "  Downloading mip-1.14.1-py3-none-any.whl (15.3 MB)\n",
      "\u001b[K     |████████████████████████████████| 15.3 MB 2.1 MB/s \n",
      "\u001b[?25hCollecting cffi==1.15.0\n",
      "  Downloading cffi-1.15.0-cp37-cp37m-manylinux_2_12_x86_64.manylinux2010_x86_64.whl (427 kB)\n",
      "\u001b[K     |████████████████████████████████| 427 kB 66.6 MB/s \n",
      "\u001b[?25hRequirement already satisfied: pycparser in /usr/local/lib/python3.7/dist-packages (from cffi==1.15.0->mip) (2.21)\n",
      "Installing collected packages: cffi, mip\n",
      "  Attempting uninstall: cffi\n",
      "    Found existing installation: cffi 1.15.1\n",
      "    Uninstalling cffi-1.15.1:\n",
      "      Successfully uninstalled cffi-1.15.1\n",
      "Successfully installed cffi-1.15.0 mip-1.14.1\n"
     ]
    },
    {
     "data": {
      "application/vnd.colab-display-data+json": {
       "pip_warning": {
        "packages": [
         "cffi"
        ]
       }
      }
     },
     "metadata": {},
     "output_type": "display_data"
    }
   ],
   "source": [
    "# Sia su Jupyter che su Colab, a seconda delle impostazioni, può non essere necessario reinstallare mip\n",
    "# Se questo comando vi dà errore, commentatelo e ignoratelo.\n",
    "!pip install mip"
   ]
  },
  {
   "cell_type": "code",
   "execution_count": 1,
   "id": "fef3ed10",
   "metadata": {
    "executionInfo": {
     "elapsed": 540,
     "status": "ok",
     "timestamp": 1664541693723,
     "user": {
      "displayName": "Martina Doneda",
      "userId": "16137246309967274493"
     },
     "user_tz": -120
    },
    "id": "fef3ed10"
   },
   "outputs": [
    {
     "ename": "ModuleNotFoundError",
     "evalue": "No module named 'mip'",
     "output_type": "error",
     "traceback": [
      "\u001b[0;31m---------------------------------------------------------------------------\u001b[0m",
      "\u001b[0;31mModuleNotFoundError\u001b[0m                       Traceback (most recent call last)",
      "Cell \u001b[0;32mIn[1], line 1\u001b[0m\n\u001b[0;32m----> 1\u001b[0m \u001b[38;5;28;01mimport\u001b[39;00m \u001b[38;5;21;01mmip\u001b[39;00m\n",
      "\u001b[0;31mModuleNotFoundError\u001b[0m: No module named 'mip'"
     ]
    }
   ],
   "source": [
    "import mip"
   ]
  },
  {
   "cell_type": "markdown",
   "id": "1bd89fa3",
   "metadata": {
    "id": "1bd89fa3"
   },
   "source": [
    "Successivamente, creiamo un modello di ottimizzazione `m`. Lo facciamo evocando il metodo `mip.Model` definito *constructor*. Creiamo anche due variabili `x1` e `x2` usando il metodo `add_var()` dal modello di ottimizzazione."
   ]
  },
  {
   "cell_type": "code",
   "execution_count": 3,
   "id": "5250da1b",
   "metadata": {
    "executionInfo": {
     "elapsed": 3,
     "status": "ok",
     "timestamp": 1664541758122,
     "user": {
      "displayName": "Martina Doneda",
      "userId": "16137246309967274493"
     },
     "user_tz": -120
    },
    "id": "5250da1b"
   },
   "outputs": [],
   "source": [
    "m = mip.Model()\n",
    "\n",
    "x1 = m.add_var()\n",
    "x2 = m.add_var()"
   ]
  },
  {
   "cell_type": "markdown",
   "id": "3de70a50",
   "metadata": {
    "id": "3de70a50"
   },
   "source": [
    "Aggiungiamo ora il singolo vincolo e l'obiettivo.\n",
    "\n",
    "Per aggiungere il vincolo, utilizziamo il metodo `add_constr` dal modello di ottimizzazione.\n",
    "Per aggiungere la funzione obiettivo, impostiamo l'attributo `objective` di `m`. Usiamo il metodo `mip.maximize`, per indicare che questa è una funzione da massimizzare.\n",
    "\n",
    "Per ora, poiché sia ​​il vincolo che l'obiettivo sono molto semplici, li scriviamo completamente come espressioni algebriche di `x1` e `x2`. "
   ]
  },
  {
   "cell_type": "code",
   "execution_count": 4,
   "id": "57a8e7b6",
   "metadata": {
    "executionInfo": {
     "elapsed": 494,
     "status": "ok",
     "timestamp": 1664541842222,
     "user": {
      "displayName": "Martina Doneda",
      "userId": "16137246309967274493"
     },
     "user_tz": -120
    },
    "id": "57a8e7b6"
   },
   "outputs": [],
   "source": [
    "m.add_constr(2*x1 + x2 <= 10)\n",
    "\n",
    "m.objective = mip.maximize(x1 + x2)"
   ]
  },
  {
   "cell_type": "markdown",
   "id": "f3fbd145",
   "metadata": {
    "id": "f3fbd145"
   },
   "source": [
    "Infine, chiamiamo il metodo `optimize` per risolvere il problema e stampare il valore della soluzione ottima. Per una variabile `v` del modulo `mip`, il suo valore nella soluzione ottimale viene recuperato come attributo `.x`, ad esempio `v.x`."
   ]
  },
  {
   "cell_type": "code",
   "execution_count": 5,
   "id": "50f37f13",
   "metadata": {
    "colab": {
     "base_uri": "https://localhost:8080/"
    },
    "executionInfo": {
     "elapsed": 632,
     "status": "ok",
     "timestamp": 1664541890286,
     "user": {
      "displayName": "Martina Doneda",
      "userId": "16137246309967274493"
     },
     "user_tz": -120
    },
    "id": "50f37f13",
    "outputId": "8d7c0246-75e9-46f0-e800-994636cb1124"
   },
   "outputs": [
    {
     "name": "stdout",
     "output_type": "stream",
     "text": [
      "Soluzione: 0.0 , 10.0\n"
     ]
    }
   ],
   "source": [
    "m.optimize()\n",
    "\n",
    "print('Soluzione:', x1.x, ',', x2.x)"
   ]
  },
  {
   "cell_type": "markdown",
   "id": "b31d619b",
   "metadata": {
    "id": "b31d619b"
   },
   "source": [
    "Ecco il programma completo:"
   ]
  },
  {
   "cell_type": "code",
   "execution_count": 6,
   "id": "d890a88e",
   "metadata": {
    "colab": {
     "base_uri": "https://localhost:8080/"
    },
    "executionInfo": {
     "elapsed": 479,
     "status": "ok",
     "timestamp": 1664541900321,
     "user": {
      "displayName": "Martina Doneda",
      "userId": "16137246309967274493"
     },
     "user_tz": -120
    },
    "id": "d890a88e",
    "outputId": "a0ee132b-91b7-4529-e850-3d7afed93fcb"
   },
   "outputs": [
    {
     "name": "stdout",
     "output_type": "stream",
     "text": [
      "Soluzione: 0.0 , 10.0\n"
     ]
    }
   ],
   "source": [
    "import mip\n",
    "\n",
    "m = mip.Model()\n",
    "\n",
    "x1 = m.add_var()\n",
    "x2 = m.add_var()\n",
    "\n",
    "m.objective = mip.maximize(x1 + x2)\n",
    "m.add_constr(2*x1 + x2 <= 10)\n",
    "\n",
    "m.optimize()\n",
    "\n",
    "print('Soluzione:', x1.x, ',', x2.x)"
   ]
  },
  {
   "cell_type": "markdown",
   "id": "d0501107",
   "metadata": {
    "id": "d0501107"
   },
   "source": [
    "# Un esempio leggermente più avanzato\n",
    "Consideriamo ora un esempio leggermente più complicato: formulare e risolvere un problema dello zaino (o knapsack).\n",
    "\n",
    "$$\n",
    "\\begin{array}{lll}\n",
    "\\max & 3 x_1 + 4 x_2 + 7 x_3 + 5 x_4\\\\\n",
    "\\textrm{s.t.} & 4 x_1 + 5 x_2 + 6 x_3 + 4 x_4 \\le 13\\\\\n",
    "              & x_1, x_2, x_3, x_4 \\in \\{0,1\\}\n",
    "\\end{array}\n",
    "$$\n",
    "\n",
    "Per cominciare, importiamo il modulo e definiamo i dati utilizzati in questo modello."
   ]
  },
  {
   "cell_type": "code",
   "execution_count": 7,
   "id": "662ee5a1",
   "metadata": {
    "executionInfo": {
     "elapsed": 692,
     "status": "ok",
     "timestamp": 1664542003589,
     "user": {
      "displayName": "Martina Doneda",
      "userId": "16137246309967274493"
     },
     "user_tz": -120
    },
    "id": "662ee5a1"
   },
   "outputs": [],
   "source": [
    "# Primo: importare il modulo mip\n",
    "import mip\n",
    "\n",
    "# Secondo, definire i dati: due vettori per valore e peso e uno scalare\n",
    "# per il lato destro dell'unico vincolo\n",
    "value = [3, 4, 7, 5]\n",
    "weight = [4, 5, 6, 4]\n",
    "max_weight = 13"
   ]
  },
  {
   "cell_type": "markdown",
   "id": "b99cce31",
   "metadata": {
    "id": "b99cce31"
   },
   "source": [
    "Successivamente, creiamo un modello di ottimizzazione con il metodo *constructor* contenuto in `mip.Model`.\n",
    "\n",
    "Aggiungiamo anche quattro variabili usando una lista e chiamiamo quella lista `x`. Si noti che stiamo usando una cosiddetta _comprensione della lista_ per creare variabili, cioè mettiamo un costrutto `for` _dentro_ la lista per creare tanti elementi nella lista quanti sono i numeri in `range(4)`. Come già visto in celle precedenti, `range(4)` è l'insieme di numeri `0, 1, 2, 3`."
   ]
  },
  {
   "cell_type": "code",
   "execution_count": 8,
   "id": "bd0e7f92",
   "metadata": {
    "executionInfo": {
     "elapsed": 709,
     "status": "ok",
     "timestamp": 1664542115061,
     "user": {
      "displayName": "Martina Doneda",
      "userId": "16137246309967274493"
     },
     "user_tz": -120
    },
    "id": "bd0e7f92"
   },
   "outputs": [],
   "source": [
    "# Creiamo il modello\n",
    "m = mip.Model()\n",
    "\n",
    "x = [m.add_var(var_type=mip.BINARY) for i in range(4)]"
   ]
  },
  {
   "cell_type": "markdown",
   "id": "9c25dd17",
   "metadata": {
    "id": "9c25dd17"
   },
   "source": [
    "Aggiungiamo ora il singolo vincolo e l'obiettivo. Per creare la somma $\\sum_i w_i x_i$, è necessario utilizzare il metodo `mip.xsum`. Come argomento, si usa ancora un costrutto `for` all'interno dell'argomento `xsum`. L'espressione\n",
    "\n",
    "```python\n",
    "weight[i] * x[i] for i in range(4)\n",
    "```\n",
    "\n",
    "genera tutti i prodotti $w_ix_i$ per tutti $i\\in \\{0,1,2,3\\}$ (so che potrebbe essere difficile per molti abituarsi all'idea che gli indici inizino da zero in Python, ma non c'è modo di modificare questa logica, e bisogna ricordarselo). Questa espressione viene quindi racchiusa in un `mip.xsum`, che è vincolato a essere minore o uguale a `max_weight`. Questo è il vincolo. Viene aggiunto al modello con l'operatore `+=`, che è comune in Python e in altri linguaggi come C/C++ o Java; `a += b` significa \"aggiungi `b` a `a` e salva il risultato in `a`\".\n",
    "\n",
    "La funzione obiettivo è una costruzione simile a `mip.xsum`, questa volta con `value[i]` invece di `weight[i]` per i coefficienti. Viene assegnata come funzione obiettivo del modello con il metodo `mip.maximize`, per indicare che si tratta ovviamente di una funzione da massimizzare."
   ]
  },
  {
   "cell_type": "code",
   "execution_count": 9,
   "id": "7232f1b7",
   "metadata": {
    "executionInfo": {
     "elapsed": 1385,
     "status": "ok",
     "timestamp": 1664542293816,
     "user": {
      "displayName": "Martina Doneda",
      "userId": "16137246309967274493"
     },
     "user_tz": -120
    },
    "id": "7232f1b7"
   },
   "outputs": [],
   "source": [
    "m.add_constr(mip.xsum(weight[i] * x[i] for i in range(4)) <= max_weight)\n",
    "\n",
    "m.objective = mip.maximize(mip.xsum(value[i] * x[i] for i in range(4)))"
   ]
  },
  {
   "cell_type": "markdown",
   "id": "fd0dc36f",
   "metadata": {
    "id": "fd0dc36f"
   },
   "source": [
    "Infine, chiamiamo il metodo `optimize` per risolvere il problema e stampare il valore della soluzione ottima. Per una variabile `v` del modulo `mip`, il suo valore nella soluzione ottimale viene recuperato come attributo `.x`, ad esempio `v.x`."
   ]
  },
  {
   "cell_type": "code",
   "execution_count": 10,
   "id": "8d4dd926",
   "metadata": {
    "colab": {
     "base_uri": "https://localhost:8080/"
    },
    "executionInfo": {
     "elapsed": 624,
     "status": "ok",
     "timestamp": 1664542343374,
     "user": {
      "displayName": "Martina Doneda",
      "userId": "16137246309967274493"
     },
     "user_tz": -120
    },
    "id": "8d4dd926",
    "outputId": "b164b2ce-34b3-4438-d09e-a1fa395df9c1"
   },
   "outputs": [
    {
     "name": "stdout",
     "output_type": "stream",
     "text": [
      "[1.0, 1.0, 0.0, 1.0]\n"
     ]
    }
   ],
   "source": [
    "m.optimize()\n",
    "\n",
    "print([x[i].x for i in range(4)])"
   ]
  },
  {
   "cell_type": "markdown",
   "id": "12df7510",
   "metadata": {
    "id": "12df7510"
   },
   "source": [
    "Vediamo ora il modello completo."
   ]
  },
  {
   "cell_type": "code",
   "execution_count": null,
   "id": "e6bffc3a",
   "metadata": {
    "id": "e6bffc3a"
   },
   "outputs": [],
   "source": [
    "# Primo: importare il modulo mip\n",
    "import mip\n",
    "\n",
    "# Secondo, definire i dati: due vettori per valore e peso e uno scalare\n",
    "# per il lato destro dell'unico vincolo\n",
    "value = [3, 4, 7, 5]\n",
    "weight = [4, 5, 6, 4]\n",
    "max_weight = 13\n",
    "\n",
    "# Creiamo il modello\n",
    "m = mip.Model(sense=mip.MAXIMIZE)\n",
    "\n",
    "x = [m.add_var(var_type=mip.BINARY) for i in range(4)]\n",
    "\n",
    "m.add_constr(mip.xsum(weight[i] * x[i] for i in range(4)) <= max_weight)\n",
    "m.objective = mip.maximize(mip.xsum(value[i] * x[i] for i in range(4)))\n",
    "\n",
    "m.optimize()\n",
    "\n",
    "print([x[i].x for i in range(4)])"
   ]
  },
  {
   "cell_type": "markdown",
   "id": "290ec1dd",
   "metadata": {
    "id": "290ec1dd"
   },
   "source": [
    "Ovviamente possiamo formulare il problema anche in versione non parametrica del problema. Ecco qui:"
   ]
  },
  {
   "cell_type": "code",
   "execution_count": null,
   "id": "e3e295e5",
   "metadata": {
    "id": "e3e295e5"
   },
   "outputs": [],
   "source": [
    "# TODO: Scrivete il modello in forma non-parametrica (guardate l'esempio sopra)"
   ]
  },
  {
   "cell_type": "markdown",
   "id": "bc01a0e4",
   "metadata": {
    "id": "bc01a0e4"
   },
   "source": [
    "## Varie e risoluzione dei problemi\n",
    "\n",
    "Dopo questo primo modello MIP è tempo di dire qualcosa in più su Python.\n",
    "\n",
    "### Riesecuzione del codice sui notebook Jupyter\n",
    "Il codice sui notebook Jupyter viene inserito in Python una cella alla volta. Se il notebook è scritto correttamente, dovreste essere in grado di fare clic nella prima cella, quindi fai semplicemente un `ctrl + enter` attraverso l'ultima cella senza alcun errore.\n",
    "\n",
    "Puoi anche rieseguire qualsiasi cella più volte, in qualsiasi sequenza desideri. Tuttavia, tenete presente che Python vede una sequenza di celle che gli è stata assegnata e non sa se un'istruzione deve essere annullata o meno. Pertanto, una volta eseguita una cella, i suoi risultati sono _persistenti_, almeno fino a quando non vengono ripristinati. Riavviando il kernel, si può cancellare tutta la memoria di tutto ciò che è stato fatto nella cella fino a quel momento (anche se ovviamente non le operazioni sui file). Qui sotto in questo notebook vedremo un esempio dei problemi che la persistenza delle variabili può causare.\n",
    "\n",
    "### Rientro\n",
    "L'indentazione è cruciale: in un ciclo `for`, un blocco `if` o una definizione di funzione, la parte interna __deve__ essere indentata in modo coerente. Python genererà un errore nei seguenti casi:\n",
    "\n",
    "```python\n",
    "for i in [1,2,3]:\n",
    "print(i)\n",
    "```\n",
    "Qui l'istruzione `print` dovrebbe essere rientrata di almeno uno spazio.\n",
    "```python\n",
    "if i==4:\n",
    "    print('i is 4')\n",
    "  print('deal with it')\n",
    "```\n",
    "Qui l'indentazione è incoerente.\n",
    "```python\n",
    "def myfunction(a):\n",
    "return a**4 + 5*a**3\n",
    "```\n",
    "Come il primo esempio errato. Il modo corretto per scrivere questi esempi è il seguente:\n",
    "```python\n",
    "for i in [1,2,3]:\n",
    "    print(i)\n",
    "\n",
    "if i==4:\n",
    "    print('i is 4')\n",
    "\n",
    "def myfunction(a):\n",
    "    return a**4 + 5*a**3\n",
    "```\n",
    "Il rientro suggerito è di 4 caratteri, o una `TAB`.\n",
    "\n",
    "\n",
    "### Assegnazione vs. uguaglianza\n",
    "Il segno `=` esegue un'operazione di _assegnazione_, mentre `==` controlla l'uguaglianza di due espressioni. Si può scrivere `if a == 4` ma non `if a = 4`. Inoltre, scrivere l'affermazione `a = 4` è corretto, così come `a == 4`; tuttavia, quest'ultimo non ha alcun effetto sulla variabile `a` (a parte restituire `True` o `False` sulla riga di comando di Python).\n",
    "\n",
    "### Punto e virgola, vattene!\n",
    "Potreste aver notato che Python non richiede il punto e virgola (`;`) alla fine di ogni istruzione, come fanno altri linguaggi come C, C++, Java, AMPL. Ciò rende il codice più leggibile e più scorrevole: l'indentazione sopperisce proprio alla funzione di `;` in molti altri linguaggi (ovvero, separare le istruzioni).\n",
    "\n",
    "### Scrivere una dichiarazione su più righe\n",
    "Relativamente all'ultimo punto: le condizioni possono essere suddivise su più righe purché venga aggiunto un `\\` alla fine di tutto tranne l'ultimo, ad esempio:\n",
    "```python\n",
    "se i==3 o \\\n",
    "   io==4:\n",
    "    print('i non è 5')\n",
    "```\n",
    "Ma il `\\` non è necessario se c'è una parentesi non chiusa, ad esempio:\n",
    "```python\n",
    "se (i==3 o i==5 o\n",
    "    i==7):\n",
    "    print('i è primo')\n",
    "```\n",
    "### Se vi sentite un po' masochistə...\n",
    "Un buon modo per verificare se il un programma Python è stato scritto secondo tutti gli standard è quello di eseguire il modulo `flake8` su di esso. Basta eseguire `flake8 myprogram.py` e controllare tutti gli errori che genera. Mediamente, ce ne sono veramente un sacco, anche se il programma è stato scritto con le migliori intenzioni."
   ]
  },
  {
   "cell_type": "markdown",
   "id": "fc9204aa",
   "metadata": {
    "id": "fc9204aa"
   },
   "source": [
    "## Persistenza e debugging nei Jupyter notebooks\n",
    "\n",
    "Immaginiamo di voler modellare il seguente problema:\n",
    "$$\n",
    "\\begin{array}{ll}\n",
    "  \\max & x_1 + x_2\\\\\n",
    "  \\textrm{s.t.} & 2 x_1 + x_2 \\le 10\\\\\n",
    "  & x_1, x_2 \\ge 0\n",
    "\\end{array}\n",
    "$$\n",
    "Scriviamolo usando il modulo `mip`:"
   ]
  },
  {
   "cell_type": "code",
   "execution_count": null,
   "id": "681a3ee1",
   "metadata": {
    "id": "681a3ee1"
   },
   "outputs": [],
   "source": [
    "import mip\n",
    "\n",
    "m = mip.Model()\n",
    "\n",
    "x1 = m.add_var(name='x1')\n",
    "x2 = m.add_var(name='x2')\n",
    "\n",
    "m.objective = mip.maximize(x1 + x2)\n",
    "m.add_constr(2*x1 + x2 <= 10)\n",
    "\n",
    "m.optimize()\n",
    "\n",
    "print('solution:', x1.x, ',', x2.x)"
   ]
  },
  {
   "cell_type": "markdown",
   "id": "611bd761",
   "metadata": {
    "id": "611bd761"
   },
   "source": [
    "Supponiamo ora di voler rilassare il vincolo, ad esempio cambiare il lato destro in 20:"
   ]
  },
  {
   "cell_type": "code",
   "execution_count": null,
   "id": "7319df27",
   "metadata": {
    "id": "7319df27"
   },
   "outputs": [],
   "source": [
    "# TODO: Aggiungete vincoli rilassati (ad es con <= 20 invece di <= 10)\n",
    "# TODO: Ottimizzate e stampate la soluzione qui\n",
    "print('solution:', x1.x, ',', x2.x)"
   ]
  },
  {
   "cell_type": "markdown",
   "id": "56bc6eca",
   "metadata": {
    "id": "56bc6eca"
   },
   "source": [
    "La soluzione è la stessa anche se abbiamo rilassato il problema. Come mai? Beh, il problema ha **due** vincoli: quello che abbiamo aggiunto nella prima cella (che è quella più restrittivo) e l'ultimo vincolo. Se vogliamo rilassare un problema o cambiarlo in altro modo, dovremmo modificare la cella in cui è contenuto."
   ]
  }
 ],
 "metadata": {
  "colab": {
   "collapsed_sections": [],
   "provenance": []
  },
  "kernelspec": {
   "display_name": "Python 3 (ipykernel)",
   "language": "python",
   "name": "python3"
  },
  "language_info": {
   "codemirror_mode": {
    "name": "ipython",
    "version": 3
   },
   "file_extension": ".py",
   "mimetype": "text/x-python",
   "name": "python",
   "nbconvert_exporter": "python",
   "pygments_lexer": "ipython3",
   "version": "3.12.6"
  }
 },
 "nbformat": 4,
 "nbformat_minor": 5
}
