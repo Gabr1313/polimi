{
 "cells": [
  {
   "cell_type": "markdown",
   "id": "c27f8659",
   "metadata": {
    "id": "c27f8659"
   },
   "source": [
    "# Introduzione a Python per il corso \"Fondamenti di Ricerca Operativa\"\n",
    "\n",
    "Questa pagina è un modo interattivo per accompagnarvi nei primi passi nel mondo del linguaggio di programmazione Python, e risolvere qualche problema pratico di ottimizzazione.\n",
    "\n",
    "Questo tutorial vi mostrerà:\n",
    "* Come scrivere semplici programmi in Python;\n",
    "* Alcune delle libraries che vedremo durante i laboratori;\n",
    "* Qualche nota su Jupyter Notebooks.\n",
    "\n",
    "Questo tutorial _non_ vi mostrerà come diventare espertə di Python. Per quello, c'è una grande abbondanza di risorse, la stragrande maggioranza in lingua Inglese, ma anche in Italiano. Un buon punto di partenza è la [documentazione di Python](https://docs.python.org), che contiene diversi [tutorial](https://docs.python.org/3/tutorial/index.html) per tutte le funzioni base. Se vi piace questo modo interattivo di scrivere codice, in fondo a questa pagina sono presentate delle informazioni aggiuntive su questo strumento, chiamato Jupyter Notebooks.\n",
    "\n",
    "L'aspetto più utile ed interessante è il seguente: The most useful thing is the following: potete modificare il codice e lanciarlo con il comando `ctrl`+`enter`, o premendo il pulsante `Esegui cella` sulla sinistra di alcune celle speciali.\n",
    "\n",
    "Python (e, in misura minore, Jupyter Notebook) sono uno strumento potentissimo, che trova applicazioni in moltissime branche delle scienze quantitative:\n",
    "\n",
    "![Mandatory XKCD reference for Python (Copyright xkcd.com)](https://imgs.xkcd.com/comics/python.png)\n",
    "\n",
    "\n"
   ]
  },
  {
   "cell_type": "markdown",
   "id": "krY_ia1dbQTL",
   "metadata": {
    "id": "krY_ia1dbQTL"
   },
   "source": [
    "Per facilitare la lezione, consentire alla classe di manipolare il codice a piacimento ed evitare conflitti, vi chiedo di eseguire il codice indipendentemente. Come?\n",
    "\n",
    "* Per chi conoscesse già il funzionamento Jupyter Notebook, può tranquillamente scaricare il file ed eseguirlo localmente.\n",
    "\n",
    "* Per chi non fosse già familiare con lo strumento, e volesse un modo flessibile di usarlo, può scaricare questo file, caratterizzato dall'estensione `.ipynb`, e caricarne una copia sul proprio Google Drive. Aprendo il file, Drive userà automaticamente lo strumento [Colab](https://colab.research.google.com/), che eseguirà tutto il codice tramite il vostro browser preferito.\n",
    "\n",
    "\n"
   ]
  },
  {
   "cell_type": "markdown",
   "id": "56fb5791",
   "metadata": {
    "id": "56fb5791"
   },
   "source": [
    "## Jupyter notebooks\n",
    "\n",
    "\n",
    "Un notebook è una sequenza di celle. Ogni cella può contenere del codice (non necessariamente in Python) o del testo. Le caselle di testo possono essere riempite con del testo semplice o, preferibilmente, con formattazione scritta in [markdown](https://www.markdownguide.org/), per leggibilità. Il markdown rende possibile anche includere degli snippet di codice con formato specifico per diversi linguaggi.\n",
    "\n",
    "Qui è come appare l'istruzione preceduta da un cancelletto in Python\n",
    "\n",
    "```python\n",
    "# Istruzione\n",
    "```\n",
    "\n",
    "Questa è la stessa istruzione, ma come apparirebbe in C++\n",
    "```C++\n",
    "# Istruzione\n",
    "```\n",
    "\n",
    "(Per chi dovesse avere problemi a distinguere i colori, nella prima cella il testo è colorato di verde, evidenziando l'istruzione come commento, nella seconda è in nero, perché non viene riconosciuto come tale)\n",
    "\n",
    "Markdown elabora anche la sintassi matematica $\\LaTeX$ come in $\\int_{-\\infty}^\\sqrt{2}x^{\\sin x}dx$, la creazione semplice di tabelle, elenchi, testo in _corsivo_ e __grassetto__, eccetera eccetera. Se vedete questo testo già formattato, cliccate due volte sulla cella per vedere come appare in source.\n",
    "\n",
    "Come avete visto, le celle possono contenere anche del codice. Ogni cella può essere lanciata indipendentemente, e i suoi risultati (le veriabili create, ad esempio) rimangono in memoria finché il kernel non viene resettato. Il normale flusso di un notebook è di lanciare tutte le cellule in ordine, una volta sola, per non creare conflitti tra i risultati. Ovviamente, ogni cella può essere lanciata più di una volta, e anche senza seguire l'ordine. Ciò è particolarmente utile quando si sta sviluppando del codice."
   ]
  },
  {
   "cell_type": "markdown",
   "id": "ZOOsRvJKasuy",
   "metadata": {
    "id": "ZOOsRvJKasuy"
   },
   "source": [
    "## Iniziamo\n",
    "\n",
    "Python è un linguaggio di programmazione relativamente semplice, intuitivo, e facilmente interpretabile. Può essere utilizzato per scrivere programmi brevi che automatizzano un compito (per esempio, filtrare delle righe in un file di testo, o conteggiare le occorrenze di una data parola), ma può essere anche il linguaggio ideale per progetti software lunghi e complessi.\n",
    "\n",
    "Sotto, troviamo la nostra prima cella di codice eseguibile. Cliccate sulla cella e selezionate `Esegui cella`, o premete `ctrl`+`enter`."
   ]
  },
  {
   "cell_type": "code",
   "execution_count": null,
   "id": "90807488",
   "metadata": {
    "colab": {
     "base_uri": "https://localhost:8080/"
    },
    "executionInfo": {
     "elapsed": 5,
     "status": "ok",
     "timestamp": 1664538411582,
     "user": {
      "displayName": "Martina Doneda",
      "userId": "16137246309967274493"
     },
     "user_tz": -120
    },
    "id": "90807488",
    "outputId": "d9e2f281-0f1c-422f-bddd-38715cd0c92e"
   },
   "outputs": [
    {
     "name": "stdout",
     "output_type": "stream",
     "text": [
      "Fammi controllare se 712515131 è un numero primo\n",
      "Sì, 712515131 è primo\n"
     ]
    }
   ],
   "source": [
    "import math\n",
    "\n",
    "n = 712515131\n",
    "print('Fammi controllare se', n, 'è un numero primo')\n",
    "\n",
    "# Lista dei divisori\n",
    "dividers = []\n",
    "\n",
    "# Controlla tutti i numeri fino alla radice quadrata di n\n",
    "# Controllare numeri più grandi sarebbe inutile\n",
    "for k in range(2, 1 + math.floor(math.sqrt(n))):\n",
    "    if n // k == n / k:\n",
    "        dividers.append(k)\n",
    "\n",
    "if dividers == []:\n",
    "    print('Sì,', n, 'è primo')\n",
    "else:\n",
    "    print('No,', n, 'non è primo: è divisibile per', dividers)"
   ]
  },
  {
   "cell_type": "markdown",
   "id": "2d239638",
   "metadata": {
    "id": "2d239638"
   },
   "source": [
    "Questo script controlla se il numero `712515131` è primo. Per fare ciò, controlla se, per tutti i numeri $k$ tra 2 e $\\left\\lfloor\\sqrt{n}\\right\\rfloor$, estremi inclusi, la divisione intera tra $n$ e $k$ (che in Python si rappresenta con l'operatore `//`) è lo stesso della divisione \"semplice\" $\\frac{n}{k}$. Se questo è il caso per almeno uno dei valori di $k$, allora il numero non è primo. In questo caso, aggiunge $k$ alla lista dei divisori (originariamente inizializzata come una lista vuota, `[]`).\n",
    "\n",
    "Qualche appunto:\n",
    "* Abbiamo bisogno di importare un modulo per utilizzare funzioni matematiche non-base, come la funzione floor e la radice quadrata. Questo è il motivo per cui dichiariamo `import math` all'inizio. Il modulo `math`contiene la maggioranza delle funzioni matematiche, mentre Python nella sua versione di base possiede solo le funzioni aritmetiche più comuni: somma, sottrazione, moltiplicazione, divisione, divisione intera (con il già menzionato comando `//`), e potenza. (ad esempio, eseguire `n**4` equivale a calcolare $n^4$).\n",
    "* Il comando `range` risulta in tutti i numeri contenuti in un intervallo. Ad esempio, `range(4)` contiene tutti i numeri da 0 a 3, estremi inclusi, mentre `range(4,14)` dà tutti i numeri da 4 a 13. Questo è il motivo per cui dobbiamo specificare `1 + ` quando invochiamo la funzione `range`.\n",
    "* Le liste sono una struttura nativa in Python, e probabilmente una delle più comode e flessibili da utilizzare. Possono essere utilizzate in moltissimi modi, e pertanto è importante imparare ad usarle.\n",
    "* Nel caso non fosse chiaro, i commenti al codice vengono scritti premettendo loro il cancelletto, `#`. Tutto il testo da `#` alla fine della riga è ignorato dal compiler.\n",
    "\n",
    "Ora, analizziamo parte per parte lo script che abbiamo appena eseguito."
   ]
  },
  {
   "cell_type": "code",
   "execution_count": null,
   "id": "b4bb2b90",
   "metadata": {
    "id": "b4bb2b90"
   },
   "outputs": [],
   "source": [
    "import math\n",
    "\n",
    "n = 712515131\n",
    "print('Fammi controllare se', n, 'è un numero primo')"
   ]
  },
  {
   "cell_type": "markdown",
   "id": "468a2a02",
   "metadata": {
    "id": "468a2a02"
   },
   "source": [
    "Questa istruzione è molto facile. Prima diciamo a Python che avremo bisogno del modulo `math`, e poi creiamo una variabile `n`, di valore 712515131. Notate che, a differenza di altri linguaggi di programmazione, non abbiamo bisogno di specificare di che tipo sarà la variabile, prima di assegnargli un valore. Successivamente, stampiamo una riga di testo che contiene il valore di `n`. La funzione `print` in Python può essere usata a vari livelli di complessità di elaborazione del risultato, ed è molto versatile. \n",
    "\n",
    "Prossima parte di codice:"
   ]
  },
  {
   "cell_type": "code",
   "execution_count": null,
   "id": "1870b837",
   "metadata": {
    "id": "1870b837"
   },
   "outputs": [],
   "source": [
    "# Lista dei divisori\n",
    "dividers = []"
   ]
  },
  {
   "cell_type": "markdown",
   "id": "07806541",
   "metadata": {
    "id": "07806541"
   },
   "source": [
    "Questo comando crea un'altra variabile come una lista vuota `[]`. Sulle liste, è possibile fare diverse operazioni, come _accodare_ (aggiungere un elemento alla coda della lista) or _estendere_ (concatenare un'altra lista alla fine di quella considerata). Ad esempio:\n",
    "\n",
    "```python\n",
    "l = [1, 2, 3]\n",
    "l.append(5)\n",
    "```\n",
    "\n",
    "risulterà nella lista  `l=[1,2,3,5]`. Se poi usiamo il comando `l.extend([3,4])` allora `l` diventerà `[1,2,3,5,3,4]`.\n",
    "\n",
    "Avanti con il prossimo blocco:"
   ]
  },
  {
   "cell_type": "code",
   "execution_count": null,
   "id": "f34e570d",
   "metadata": {
    "id": "f34e570d"
   },
   "outputs": [],
   "source": [
    "# Controlla tutti i numeri fino alla radice quadrata di n\n",
    "# Controllare numeri più grandi sarebbe inutile\n",
    "for k in range(2, 1 + math.floor(math.sqrt(n))):\n",
    "    if n // k == n / k:\n",
    "        dividers.append(k)"
   ]
  },
  {
   "cell_type": "markdown",
   "id": "a547c824",
   "metadata": {
    "id": "a547c824"
   },
   "source": [
    "Questo ovviamente è il punto centrale dell'algoritmo. Non è sicuramente il modo migliore per identificare i numeri primi, esistono metodi più sofisticati, ma il senso è il seguente:\n",
    "\n",
    "* Per tutti i numeri da 2 a $\\left\\lfloor\\sqrt{n}\\right\\rfloor$, estremi inclusi:\n",
    "  * Se $\\left\\lfloor \\frac{n}{k}\\right\\rfloor = \\frac{n}{k}$,\n",
    "    * allora aggiungiamo $k$ alla lista dei divisori.\n",
    "\n",
    "La prima riga viene implementata con l'istruzione `range(2, 1+M)` dove $M=\\left\\lfloor \\sqrt{n} \\right\\rfloor$ per essere sicurə che $M$ sia incluso nella lista dei divisori controllati.\n",
    "\n",
    "La seconda riga controlla l'uguaglianza della divisione intera fra `n` e `k` e la loro controparte in divisione reale. Quando queste due operazioni sono uguali, $k$ è un divisore di $n$. In questo caso, la terza riga accoda $k$ alla lista dei divisori. Alla fine del loop, `dividers` sarà la lista di tutti i $k$ per i quali la condizione espressa nella seconda riga è soddisfatta."
   ]
  },
  {
   "cell_type": "code",
   "execution_count": null,
   "id": "b66b345a",
   "metadata": {
    "id": "b66b345a"
   },
   "outputs": [],
   "source": [
    "if dividers == []:\n",
    "    print('Sì,', n, 'è primo')\n",
    "else:\n",
    "    print('No,', n, 'non è primo: è divisibile per', dividers)"
   ]
  },
  {
   "cell_type": "markdown",
   "id": "bc554984",
   "metadata": {
    "id": "bc554984"
   },
   "source": [
    "L'ultima parte è l'output. Se la lista `dividers` è ancora vuota, il numero è chiaramente primo. Altrimenti, elenchiamo tutti i divisori trovati, almeno quelli fino a $\\left \\lfloor\\sqrt{n}\\right\\rfloor$. Se si vuole trovare divisori più grandi, questi sono trovabili divisore $n$ dai numeri presenti nella lista. Sotto potete trovare un'istruzione alternativa che li stampa in ordine non decrescente.\n",
    "\n",
    "Notate che se $n$ è un quadrato perfetto, ovvero $n=p^2$ con $p \\in \\mathbb N$, allora $p$ verrà mostrato due volte nell'output."
   ]
  },
  {
   "cell_type": "markdown",
   "id": "032a9de7",
   "metadata": {
    "id": "032a9de7"
   },
   "source": [
    "Oltre ad avare un'ottima struttura di linguaggio, Python ha una ricchissima libreria di moduli contenenti comandi pre-impostati per i più svariati usi. I moduli contengono sia funzioni che dati, ed è possibile utilizzarne tutte o solo alcune delle parti quando si invoca il modulo. Lavorare con Python è facile, usando correttamente i suoi moduli. Essi possono essere installati con il comando `pip`, che viene ad esempio invocato per installare il modulo `numpy`:\n",
    "\n",
    "```bash\n",
    "pip install numpy\n",
    "```"
   ]
  },
  {
   "cell_type": "markdown",
   "id": "adab5398",
   "metadata": {
    "id": "adab5398"
   },
   "source": [
    "## Numpy\n",
    "\n",
    "Numpy è un modulo per operazioni sui _multiarrays_, e.g., vettori, matrici, e tensori. Tutte le operazioni che normalmente si effettuerebbero tra scalari possono essere anche fatte fra vettori con altrettanta facilità. Per esempio, dati due array `x` e `y` della stessa dimensione, `x+y` è la somma dei due, mentre `x*y` risulta nel vettore di egual dimensione contenente il prodotto elemento per elemento. Il prodotto scalare viene invece calcolato con `numpy.dot(x,y)`."
   ]
  },
  {
   "cell_type": "code",
   "execution_count": null,
   "id": "38445636",
   "metadata": {
    "colab": {
     "base_uri": "https://localhost:8080/"
    },
    "executionInfo": {
     "elapsed": 317,
     "status": "ok",
     "timestamp": 1664539245811,
     "user": {
      "displayName": "Martina Doneda",
      "userId": "16137246309967274493"
     },
     "user_tz": -120
    },
    "id": "38445636",
    "outputId": "86200820-38ba-4d9a-f82e-e85fa0dd299b"
   },
   "outputs": [
    {
     "name": "stdout",
     "output_type": "stream",
     "text": [
      "a + b = [11  6  3  5  7]\n",
      "Prodotto elemento per elemento = [10  8  0  4 10]\n",
      "Prodotto scalare: 32\n"
     ]
    }
   ],
   "source": [
    "import numpy as np\n",
    "\n",
    "a = np.array([1,2,3,4,5])\n",
    "b = np.array([10,4,0,1,2])\n",
    "\n",
    "print('a + b =', a+b)\n",
    "print('Prodotto elemento per elemento =', a*b)\n",
    "print('Prodotto scalare:', np.dot(a,b))"
   ]
  },
  {
   "cell_type": "markdown",
   "id": "38223123",
   "metadata": {
    "id": "38223123"
   },
   "source": [
    "Numpy riesce a calcolare queste operazioni molto velocemente e con una sintassi concisa. La moltiplicazione fra matrici e vettori è fatta con l'operatore `@`.\n",
    "\n",
    "Ecco un'altro suggerimento: invece di ripetere `numpy.` prima di ogni funzione del modulo Numpy, possiamo importarla con un alias di nostra scelta (convenzionamente `np` in questo caso) per brevità. Non è necessario usare l'alias `np` per questo modulo, ma aderire alle convenzioni aumenta notevolmente la leggibilità del codice."
   ]
  },
  {
   "cell_type": "code",
   "execution_count": null,
   "id": "b9114fd4",
   "metadata": {
    "colab": {
     "base_uri": "https://localhost:8080/"
    },
    "executionInfo": {
     "elapsed": 332,
     "status": "ok",
     "timestamp": 1664539366166,
     "user": {
      "displayName": "Martina Doneda",
      "userId": "16137246309967274493"
     },
     "user_tz": -120
    },
    "id": "b9114fd4",
    "outputId": "d55adc7d-ca1b-4930-f5b1-283d5c425f6b"
   },
   "outputs": [
    {
     "name": "stdout",
     "output_type": "stream",
     "text": [
      "[ 72 109  47]\n"
     ]
    }
   ],
   "source": [
    "import numpy as np\n",
    "\n",
    "A = np.array([[2,5,3,4],[5,6,8,7],[1,2,8,10]])  # 3x4 matrix\n",
    "b = np.array([7,10,0,2])\n",
    "\n",
    "print(A@b)"
   ]
  },
  {
   "cell_type": "markdown",
   "id": "6685e014",
   "metadata": {
    "id": "6685e014"
   },
   "source": [
    "## Matplotlib\n",
    "\n",
    "Il modulo `matplotlib` è uno tra i vari moduli usati per la visualizzazione di grafici, probabilmente il più conosciuto e completo. Difatti, è l'ideale per grafici 2D e 3D, e usa anch'esso una sintassi semplice e concisa. Osserviamo l'esempio qui sotto, o visitate la [galleria degli esempi](https://matplotlib.org/stable/gallery/index.html)."
   ]
  },
  {
   "cell_type": "code",
   "execution_count": null,
   "id": "aea2b01a",
   "metadata": {
    "colab": {
     "base_uri": "https://localhost:8080/",
     "height": 283
    },
    "executionInfo": {
     "elapsed": 927,
     "status": "ok",
     "timestamp": 1664539476087,
     "user": {
      "displayName": "Martina Doneda",
      "userId": "16137246309967274493"
     },
     "user_tz": -120
    },
    "id": "aea2b01a",
    "outputId": "9056945d-6918-4eca-a013-346347a360b7"
   },
   "outputs": [
    {
     "data": {
      "text/plain": [
       "Text(0, 0.5, 'Alcuni numeri')"
      ]
     },
     "execution_count": 5,
     "metadata": {},
     "output_type": "execute_result"
    },
    {
     "data": {
      "image/png": "[encoded data removed]",
      "text/plain": [
       "<Figure size 432x288 with 1 Axes>"
      ]
     },
     "metadata": {
      "needs_background": "light"
     },
     "output_type": "display_data"
    }
   ],
   "source": [
    "import matplotlib.pyplot as plt\n",
    "plt.plot([1,2,3,4], [3,4,2,5])\n",
    "plt.ylabel('Alcuni numeri')\n",
    "plt.show()"
   ]
  }
 ],
 "metadata": {
  "colab": {
   "provenance": []
  },
  "kernelspec": {
   "display_name": "Python 3 (ipykernel)",
   "language": "python",
   "name": "python3"
  },
  "language_info": {
   "codemirror_mode": {
    "name": "ipython",
    "version": 3
   },
   "file_extension": ".py",
   "mimetype": "text/x-python",
   "name": "python",
   "nbconvert_exporter": "python",
   "pygments_lexer": "ipython3",
   "version": "3.12.6"
  }
 },
 "nbformat": 4,
 "nbformat_minor": 5
}
