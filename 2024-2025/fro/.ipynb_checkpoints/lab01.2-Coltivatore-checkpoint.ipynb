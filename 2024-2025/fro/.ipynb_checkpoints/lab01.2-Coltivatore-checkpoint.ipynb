{
 "cells": [
  {
   "cell_type": "markdown",
   "id": "8ac4bdd7",
   "metadata": {
    "id": "8ac4bdd7"
   },
   "source": [
    "# Esempio: il coltivatore\n",
    "\n",
    "In questa sessione cercheremo di modellare e risolvere una versione del problema del coltivatore che avete visto a lezione."
   ]
  },
  {
   "cell_type": "markdown",
   "id": "4512a38c",
   "metadata": {
    "id": "4512a38c"
   },
   "source": [
    "Un coltivatore ha a disposizione 12 ettari di terreno da coltivare a lattuga\n",
    "o a patate. Le risorse a sua disposizione, oltre al terreno, sono: 70 kg di\n",
    "semi di lattuga, 18 t di tuberi e 160 t di stallatico per concimare il\n",
    "terreno. Supponendo che il mercato sia in grado di assorbire tutta la\n",
    "produzione e che i prezzi siano stabili, la resa stimata della coltivazione a\n",
    "lattuga è di 3000 euro per ettaro e quella delle patate è di 5000 euro per\n",
    "ettaro. La richiesta di risorse è di 7 kg di semi e 10 t di stallatico per\n",
    "ettaro di lattuga, e 3 t di tuberi e 20 di stallatico per le patate. Il\n",
    "coltivatore deve stabilire quanto terreno destinare a lattuga e quanto a\n",
    "patate in modo da massimizzare la resa economica sfruttando al meglio\n",
    "le risorse disponibili.\n",
    "\n",
    "Elemento|Consumo per ettaro a lattuga|Consumo per ettaro a patate|Disponibilità massima\n",
    "-|-|-|-|\n",
    "Terreno|1|1|12\n",
    "Semi di lattuga|7|/|70\n",
    "Tuberi|/|3|18\n",
    "Stallatico|10|20|160\n",
    "\n",
    "Il rendimento per ettaro a lattuga è di 3000 euro, per ogni ettaro a patate invece il ricavo è 5000.  Formulate il problema di quanti ettari coltivare a patate e quanti a lattuga per assimizzare il profitto del coltivatore."
   ]
  },
  {
   "cell_type": "markdown",
   "id": "2365c436",
   "metadata": {
    "id": "2365c436"
   },
   "source": [
    "Questo problema può essere modellato in modo semplice. In primo luogo, la decisione principale consiste in due quantità: il numero di ettari a lattuga e di ettari a patate. A queste quantità assegniamo due variabili $x_L$ e $x_P$.\n",
    "\n",
    "Successivamente, il modello di ottimizzazione avrà $3000 x_L + 5000 x_P$ come funzione obiettivo, che dovrebbe essere massimizzata. Infine, i vincoli sono dati da ciascuna risorsa scarsa (terreno, stallatico, ecc.). È possibile assegnare un vincolo per ogni risorsa. Ad esempio, dato che ci sono 160 t di stallatico in totale e la lattuga ne usa 10 per ogni ettaro mentre le patate ne usano 20, ne si deriva il vincolo ne usa uno mentre M2 ne usa due, ciò implica il vincolo\n",
    "\n",
    "$$\n",
    "10x_L + 20x_p\\le 160\n",
    "$$\n",
    "\n",
    "E allo stesso modo, possiamo costruire vincoli per tutte le altre risorse. Le due variabili $x_L$ e $x_P$ devono ovviamente essere non negative e intere. Il modello finale può essere scritto come segue:\n",
    "\n",
    "$$\n",
    "\\begin{array}{llll}\n",
    "\\max & 3000 x_L + 5000 x_P\\\\\n",
    "\\textrm{s.t.} &   x_L + x_P & \\le 12 \\\\\n",
    "              & 7 x_L & \\le 70 \\\\\n",
    "              & 3 x_P & \\le 18 \\\\\n",
    "              & 10  x_1 + 20 x_2 & \\le 160 \\\\\n",
    "              & x_1, x_2 ≥ 0.\n",
    "\\end{array}\n",
    "$$\n",
    "\n",
    "Equivalentemente, possiamo effettuare un po' di semplificazioni: otterremo gli stessi valori delle variabili decisionali anche con il modello\n",
    "\n",
    "$$\n",
    "\\begin{array}{llll}\n",
    "\\max & 3x_L + 5 x_P\\\\\n",
    "\\textrm{s.t.} &   x_L + x_P & \\le 12 \\\\\n",
    "              &  x_L & \\le 10 \\\\\n",
    "              &  x_P & \\le 6 \\\\\n",
    "              &  x_1 + 2 x_2 & \\le 16 \\\\\n",
    "              & x_1, x_2 ≥ 0.\n",
    "\\end{array}\n",
    "$$"
   ]
  },
  {
   "cell_type": "code",
   "execution_count": null,
   "id": "9d05e1be",
   "metadata": {
    "id": "9d05e1be"
   },
   "outputs": [],
   "source": [
    "# Controllate se vi serve ripetere questo comendo, altrimenti ignoratelo\n",
    "!pip install mip"
   ]
  },
  {
   "cell_type": "code",
   "execution_count": null,
   "id": "2f6226a1",
   "metadata": {
    "id": "2f6226a1"
   },
   "outputs": [],
   "source": [
    "import mip\n",
    "\n",
    "m = mip.Model()\n",
    "\n",
    "xL = m.add_var(var_type=mip.INTEGER)\n",
    "# TODO: Definite xP in maniera simile\n",
    "\n",
    "m.objective = mip.maximize(3*xL + 5*xP)\n",
    "\n",
    "m.add_constr(xL + xP   <= 12)\n",
    "m.add_constr(xL        <= 10)\n",
    "# TODO: aggiungete i vincoli mancanti\n",
    "m.add_constr(xP        <= 6)\n",
    "m.add_constr(xL + 2*xP <= 16)\n",
    "m.add_constr(xL        >= 0)\n",
    "m.add_constr(xP        >= 0)\n",
    "\n",
    "m.optimize()\n",
    "\n",
    "print(xL.x, xP.x)"
   ]
  },
  {
   "cell_type": "markdown",
   "id": "X18Ymzanx1rN",
   "metadata": {
    "id": "X18Ymzanx1rN"
   },
   "source": [
    "Non sempre la soluzione ottima è intera. Supponiamo che:\n",
    "\n",
    "1. un ettaro di terreno debba essere lasciato incolto per far riposare il terreno\n",
    "2. il contadino abbia cambiato tipo di concime: ora servono 20 quintali per ettaro di lattuga e 40 per ettaro di patate e ha a disposizione 270 quintali.\n",
    "\n",
    "Come cambia il modello? Riuscite a trovare una soluzione?"
   ]
  },
  {
   "cell_type": "code",
   "execution_count": null,
   "id": "j9lYFtpNx4h2",
   "metadata": {
    "id": "j9lYFtpNx4h2"
   },
   "outputs": [],
   "source": []
  }
 ],
 "metadata": {
  "colab": {
   "collapsed_sections": [],
   "provenance": []
  },
  "kernelspec": {
   "display_name": "Python 3 (ipykernel)",
   "language": "python",
   "name": "python3"
  },
  "language_info": {
   "codemirror_mode": {
    "name": "ipython",
    "version": 3
   },
   "file_extension": ".py",
   "mimetype": "text/x-python",
   "name": "python",
   "nbconvert_exporter": "python",
   "pygments_lexer": "ipython3",
   "version": "3.12.6"
  }
 },
 "nbformat": 4,
 "nbformat_minor": 5
}
