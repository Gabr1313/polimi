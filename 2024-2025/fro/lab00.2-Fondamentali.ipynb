{
 "cells": [
  {
   "cell_type": "markdown",
   "metadata": {
    "id": "WjPvmH-t5R5b"
   },
   "source": [
    "## Primi passi\n",
    "\n",
    "In questo primo notebook, farete i vostri primi passi con Python e controlleremoi potenziali del notebook. Alterneremo \"box\" (o \"celle\") di testo e celle di codice vuote, dove potrete scrivere codice e testarlo. Una cella può essere usata per scrivere testo (potete anche aggiungere formule come $\\int_\\sqrt{2}^\\pi x\\sin\\left(\\frac{1}{x}\\right)dx$, usando linguaggio in $\\LaTeX$) scegliendo \"Testo\" dal menu a tendina in cima alla scheda. Per eseguire una cella, premete `ctrl + enter`. Questo si applica anche a celle di testo formattato, come questa. Per modificarla, cliccateci due volte.\n",
    "\n",
    "Il primo esempio di Python è un piccolo programma che assegna due numeri a due variabili, `p1` e` p2`, e stampa la loro somma.\n",
    "\n",
    "```\n",
    "p1 = 987654321\n",
    "p2 = 123456789\n",
    "print(p1 + p2)\n",
    "```\n",
    "\n",
    "Provate a scrivere le celle qui sopra nella box sotto, e premete `ctrl + enter`. Il risultato dovrebbe essere `1111111110`"
   ]
  },
  {
   "cell_type": "code",
   "execution_count": 1,
   "metadata": {
    "colab": {
     "base_uri": "https://localhost:8080/"
    },
    "executionInfo": {
     "elapsed": 6,
     "status": "ok",
     "timestamp": 1664539692186,
     "user": {
      "displayName": "Martina Doneda",
      "userId": "16137246309967274493"
     },
     "user_tz": -120
    },
    "id": "95cNt59ar3ME",
    "outputId": "df9961fe-3ade-44bc-b4ad-690d7dba2173"
   },
   "outputs": [
    {
     "name": "stdout",
     "output_type": "stream",
     "text": [
      "1111111110\n"
     ]
    }
   ],
   "source": [
    "p1 = 987654321\n",
    "p2 = 123456789\n",
    "print(p1 + p2)"
   ]
  },
  {
   "cell_type": "markdown",
   "metadata": {
    "id": "hXAQF8dx5R5g"
   },
   "source": [
    "Le stringhe di testo possono essere formattate con la funzione `print`. Per stampare \"La somma di 987654321 e 123456789 è 1111111110\", scrivete\n",
    "\n",
    "```\n",
    "print(f\"La somma di {p1} e {p2} è {p1 + p2}\")\n",
    "```\n",
    "\n",
    "Notate l'`f` prima della stringa (`f` sta per \"formattazione\") e gli oggetti che vanno stampati rinchiusi fra parentesi graffe. Provate ora a stampare il prodotto di `p1` e `p2` qui sotto.."
   ]
  },
  {
   "cell_type": "code",
   "execution_count": 2,
   "metadata": {
    "colab": {
     "base_uri": "https://localhost:8080/"
    },
    "executionInfo": {
     "elapsed": 336,
     "status": "ok",
     "timestamp": 1664539723130,
     "user": {
      "displayName": "Martina Doneda",
      "userId": "16137246309967274493"
     },
     "user_tz": -120
    },
    "id": "4Ri1gJ9i5R5g",
    "outputId": "20e372a6-49dd-454b-e06d-4628c80c7c1c"
   },
   "outputs": [
    {
     "name": "stdout",
     "output_type": "stream",
     "text": [
      "La somma di 987654321 e 123456789 è 1111111110\n"
     ]
    }
   ],
   "source": []
  },
  {
   "cell_type": "markdown",
   "metadata": {
    "id": "nHkmS-hf5R5h"
   },
   "source": [
    "## Funzioni\n",
    "\n",
    "Ora procediamo con un esempio per introdurre il flusso di lavoro. Supponiamo di voler determinare se un certo numero `n` è primo, ma, a differenza del precedente esempio, non conserviamo i suoi fattori. Lo pseudocodice è semplice: dobbiamo controllare, per ogni intero `k` da 2 a $\\lfloor\\sqrt{n}\\rfloor$ (Vi ricordate perché?), se $\\frac{n}{k}$ è intero, ovvero se la divisione restituisce un resto nullo.\n",
    "\n",
    "```\n",
    "Algorithm: PrimeNumber\n",
    "Input: n\n",
    "Output: 1 if n is prime, 0 otherwise\n",
    "k = 2\n",
    "while k <= sqrt(n):\n",
    "  if n is divisible by k\n",
    "    output 0\n",
    "  increase k\n",
    "output 1\n",
    "```\n",
    "\n",
    "L'implementazione Python è anch'essa molto semplice. Per incapsulare l'algoritmo, lo definiremo come una funzione di nome `PrimeNumber` che prende un numero come input e ritorna il valore di verità `True` se il numero è primo, e `False` altrimenti."
   ]
  },
  {
   "cell_type": "code",
   "execution_count": 4,
   "metadata": {
    "colab": {
     "base_uri": "https://localhost:8080/"
    },
    "executionInfo": {
     "elapsed": 303,
     "status": "ok",
     "timestamp": 1664539998935,
     "user": {
      "displayName": "Martina Doneda",
      "userId": "16137246309967274493"
     },
     "user_tz": -120
    },
    "id": "XZj4aYhM5R5h",
    "outputId": "e54d081b-8717-457d-8032-8886c3ed17c9"
   },
   "outputs": [
    {
     "name": "stdout",
     "output_type": "stream",
     "text": [
      "13 è primo\n"
     ]
    }
   ],
   "source": [
    "import math\n",
    "def PrimeNumber(n):      # Definiamo la funzione PrimeNumber con un solo argomento n\n",
    "    for k in range(2, math.floor(math.sqrt(n)) + 1): \n",
    "        if n % k == 0:   # Il simbolo \"%\" dà il resto della divisione intera n/k.\n",
    "            return False\n",
    "    return True\n",
    "\n",
    "    \n",
    "x = 13\n",
    "if PrimeNumber(x):\n",
    "    print(f\"{x} è primo\")\n",
    "else:\n",
    "    print(f\"{x} non è primo\")\n"
   ]
  },
  {
   "cell_type": "markdown",
   "metadata": {
    "id": "w7kz1M-g5R5h"
   },
   "source": [
    "Ora possiamo usare la definizione di `PrimeNumber` per ottenere tutti i numeri primi fra 2 e 1000. Ciò che dovete fare è costruire un loop invocando la funzione `PrimeNumber` prima di stampare il numero.\n",
    "\n",
    "Provate a scrivere questo codice nel box qui sotto."
   ]
  },
  {
   "cell_type": "code",
   "execution_count": 3,
   "metadata": {
    "id": "RLPbCtAB5R5i"
   },
   "outputs": [
    {
     "name": "stdout",
     "output_type": "stream",
     "text": [
      "2\n",
      "3\n",
      "5\n",
      "7\n",
      "11\n",
      "13\n",
      "17\n",
      "19\n",
      "23\n",
      "29\n",
      "31\n",
      "37\n",
      "41\n",
      "43\n",
      "47\n",
      "53\n",
      "59\n",
      "61\n",
      "67\n",
      "71\n",
      "73\n",
      "79\n",
      "83\n",
      "89\n",
      "97\n",
      "101\n",
      "103\n",
      "107\n",
      "109\n",
      "113\n",
      "127\n",
      "131\n",
      "137\n",
      "139\n",
      "149\n",
      "151\n",
      "157\n",
      "163\n",
      "167\n",
      "173\n",
      "179\n",
      "181\n",
      "191\n",
      "193\n",
      "197\n",
      "199\n",
      "211\n",
      "223\n",
      "227\n",
      "229\n",
      "233\n",
      "239\n",
      "241\n",
      "251\n",
      "257\n",
      "263\n",
      "269\n",
      "271\n",
      "277\n",
      "281\n",
      "283\n",
      "293\n",
      "307\n",
      "311\n",
      "313\n",
      "317\n",
      "331\n",
      "337\n",
      "347\n",
      "349\n",
      "353\n",
      "359\n",
      "367\n",
      "373\n",
      "379\n",
      "383\n",
      "389\n",
      "397\n",
      "401\n",
      "409\n",
      "419\n",
      "421\n",
      "431\n",
      "433\n",
      "439\n",
      "443\n",
      "449\n",
      "457\n",
      "461\n",
      "463\n",
      "467\n",
      "479\n",
      "487\n",
      "491\n",
      "499\n",
      "503\n",
      "509\n",
      "521\n",
      "523\n",
      "541\n",
      "547\n",
      "557\n",
      "563\n",
      "569\n",
      "571\n",
      "577\n",
      "587\n",
      "593\n",
      "599\n",
      "601\n",
      "607\n",
      "613\n",
      "617\n",
      "619\n",
      "631\n",
      "641\n",
      "643\n",
      "647\n",
      "653\n",
      "659\n",
      "661\n",
      "673\n",
      "677\n",
      "683\n",
      "691\n",
      "701\n",
      "709\n",
      "719\n",
      "727\n",
      "733\n",
      "739\n",
      "743\n",
      "751\n",
      "757\n",
      "761\n",
      "769\n",
      "773\n",
      "787\n",
      "797\n",
      "809\n",
      "811\n",
      "821\n",
      "823\n",
      "827\n",
      "829\n",
      "839\n",
      "853\n",
      "857\n",
      "859\n",
      "863\n",
      "877\n",
      "881\n",
      "883\n",
      "887\n",
      "907\n",
      "911\n",
      "919\n",
      "929\n",
      "937\n",
      "941\n",
      "947\n",
      "953\n",
      "967\n",
      "971\n",
      "977\n",
      "983\n",
      "991\n",
      "997\n"
     ]
    }
   ],
   "source": [
    "import math\n",
    "def PrimeNumber(n):      # Definiamo la funzione PrimeNumber con un solo argomento n\n",
    "    for k in range(2, math.floor(math.sqrt(n)) + 1): \n",
    "        if n % k == 0:   # Il simbolo \"%\" dà il resto della divisione intera n/k.\n",
    "            return False\n",
    "    return True\n",
    "\n",
    "for i in range(2, 1000+1):\n",
    "    if PrimeNumber(i):\n",
    "        print(i)"
   ]
  },
  {
   "cell_type": "markdown",
   "metadata": {
    "id": "DW74dVrY5R5i"
   },
   "source": [
    "Qualche nota sulla funzione `range`:\n",
    "* range(10) risulta in tutti i numeri da 0 a 9;\n",
    "* range(3,10) risulta in tutti i numeri da 3 a 9;\n",
    "* range(3,100,7) risulta in tutti i numeri da 3 a 100 a step di 7, ovvero: 3, 10, 17, 24, 31, 38, 45, 52, 59, 66, 73, 80, 87, 94.\n",
    "\n",
    "Quindi, `range(n)` non include $n$, e si ferma immediatamente prima. Affinché il loop da 2 a $\\sqrt{n}$ (o meglio, dato che necessitiamo di un intero, a $\\lfloor\\sqrt{n}\\rfloor$) dobbiamo aumentare il limite di uno, per essere sicurə dobbiamo aumentare il limite di uno, assicurandoci di raggiungere il sopramenzionato valore di $\\lfloor\\sqrt{n}\\rfloor$, da qui la funzione `math.floor(math.sqrt(n))+1`."
   ]
  },
  {
   "cell_type": "markdown",
   "metadata": {
    "id": "XHEsL49C5R5j"
   },
   "source": [
    "Avete notato?\n",
    "\n",
    "* Niente punto e virgola (o semicolon, \";\") alla fine di un'istruzione, come accade in C, C++, o Java;\n",
    "* Nessuna parola chiave o indentazione per concludere un blocco. In Python, l'__indentazione__ è tutto: righe consecutive allo stesso livello di indentazione sono considerate un blocco, finire un'indentazione è equivalente a terminare un loop, per dire. Ad esempio, i due snippet seguenti fanno cose diverse:\n",
    "\n",
    "```\n",
    "for i in range(3):\n",
    "   print(i)\n",
    "   print(42)\n",
    "```\n",
    "\n",
    "```\n",
    "for i in range(3):\n",
    "   print(i)\n",
    "print(42)\n",
    "```\n",
    "\n",
    "L'output del primo snippet sarà \"0 42 1 42 2 42\" (ogni numero su una nuova riga), mentre per il secondo sarà \"0 1 2 42\". Questa caratteristica di Python è unica e deve essere considerata ogni volta che si inizia a scrivere una nuova riga di istruzioni.\n",
    "\n",
    "Potete controllare le compilazioni nel box qui sotto."
   ]
  },
  {
   "cell_type": "code",
   "execution_count": null,
   "metadata": {
    "id": "Aey-ptN1R5Gg"
   },
   "outputs": [],
   "source": []
  },
  {
   "cell_type": "markdown",
   "metadata": {
    "id": "E1iWTCOU5R5j"
   },
   "source": [
    "## Liste\n",
    "\n",
    "Le liste sono una semplice struttura che immagazzina dati di possibilmente tipi diversi. Una lista contenente 1, 2, and \"hey!\" può essere dichiarata così:\n",
    "\n",
    "```\n",
    "l = [1,2,\"hey!\"]\n",
    "```\n",
    "\n",
    "Le liste possono essere concatenate con `+`:\n",
    "\n",
    "```\n",
    "l1 = [1,2,3]\n",
    "l2 = [4,5,6]\n",
    "print(l1 + l2)\n",
    "```\n",
    "\n",
    "Una lista è rappresentata con i suoi elementi separati da una virgola e chiusi tra parentesei quadre. Può essere inizializzata come lista vuota (`[]`) e poi popolata con un elemento alla volta, con il comando `append`. Lo snippet seguente:\n",
    "\n",
    "```\n",
    "l = []\n",
    "for i in range(50, 55):\n",
    "    l.append(i)\n",
    "\n",
    "print(l)\n",
    "```\n",
    "\n",
    "risulterà nella lista `[50,51,52,53,54]`. Una lista può essere indicata, così come accade in molti altri linguaggi, con delle parentesi quadre, ma __notate__ che, in Python, gli indici iniziano con zero: quindi, il primo elemento nella lista di cui sopra, (50), ha indice 0 (`l[0]`). Indici negativi sono utilizzati per interrogare una lista dalla sua coda: `l[-1]` è 54, `l[-2]` è 53, e così via.\n",
    "\n",
    "La particella `in` in Python può essere usata per controllare se un elemento appartiene ad una lista. Per esempio, se una lista è definita come `l = [2, 5, 88, 90909]`, allora `2 in l` restituisce `True`, mentre `44 in l` restituisce `False`. Indovinate cosa farà lo snippet seguente:"
   ]
  },
  {
   "cell_type": "code",
   "execution_count": 5,
   "metadata": {
    "colab": {
     "base_uri": "https://localhost:8080/"
    },
    "executionInfo": {
     "elapsed": 287,
     "status": "ok",
     "timestamp": 1664540775788,
     "user": {
      "displayName": "Martina Doneda",
      "userId": "16137246309967274493"
     },
     "user_tz": -120
    },
    "id": "DSKDDQUN5R5k",
    "outputId": "df482e90-46c5-4977-be1e-965cfdceebf6"
   },
   "outputs": [
    {
     "name": "stdout",
     "output_type": "stream",
     "text": [
      "Paris\n",
      "Roma\n"
     ]
    }
   ],
   "source": [
    "l1 = ['Paris', 'Toulouse', 'Milano', 'Torino', 'Roma', 'Munich', 'Frankfurt', 'Edinburgh']\n",
    "l2 = ['Madrid', 'Paris', 'Berlin', 'Roma', 'Bruxelles', 'Bern', 'Wien']\n",
    "\n",
    "for city1 in l1:\n",
    "    if city1 in l2:\n",
    "        print(city1)"
   ]
  },
  {
   "cell_type": "markdown",
   "metadata": {
    "id": "ukqGiwLW5R5k"
   },
   "source": [
    "## Comprensioni di lista\n",
    "\n",
    "Le comprensioni di lista sono un potente strumento in Python per creare una lista implementando una condizione che la definisce. Per esempio, per definire un insieme, in linguaggio matematico, è possibile dire: $S = \\{4i^3: i=3,4,\\ldots{},10\\}$. Questo è un modo compatto per definire l'insieme $\\{108, 256, 500, 864, 1372, 2048, 2916, 4000\\}$. In Python, questo può essere fatto in una singola riga di comando:"
   ]
  },
  {
   "cell_type": "code",
   "execution_count": 6,
   "metadata": {
    "colab": {
     "base_uri": "https://localhost:8080/"
    },
    "executionInfo": {
     "elapsed": 280,
     "status": "ok",
     "timestamp": 1664540864305,
     "user": {
      "displayName": "Martina Doneda",
      "userId": "16137246309967274493"
     },
     "user_tz": -120
    },
    "id": "M_XS4zt15R5k",
    "outputId": "a8b55dbb-6b54-43ea-f292-663c77918cc7"
   },
   "outputs": [
    {
     "name": "stdout",
     "output_type": "stream",
     "text": [
      "[108, 256, 500, 864, 1372, 2048, 2916, 4000]\n"
     ]
    }
   ],
   "source": [
    "S = [4*i**3 for i in range(3,11)]\n",
    "print(S)"
   ]
  },
  {
   "cell_type": "markdown",
   "metadata": {
    "id": "GcnjgC8j5R5k"
   },
   "source": [
    "Qualche nota:\n",
    "* `S` qui è una lista, non un insieme, quindi ogni elemento è associato ad una __posizione__ nella lista. Più in dettaglio, l'indice __non__ è legato al valore dell'`i` che ha generato quel numero:  `S[0] = 108`, `S[7] = 4000`, e `S[3] = 864`.\n",
    "* Come prima, il comando `range(3,11)` è necessario per includere il valore di 10.\n",
    "* L'operatore potenza si scrive `**`, ad es. `3**4` è 81.\n",
    "\n",
    "Esercizio: sfidate Python a calcolare $2^{1000}$."
   ]
  },
  {
   "cell_type": "code",
   "execution_count": 5,
   "metadata": {
    "id": "7coE-rNG5R5l"
   },
   "outputs": [
    {
     "data": {
      "text/plain": [
       "1322070819480806636890455259752144365965422032752148167664920368226828597346704899540778313850608061963909777696872582355950954582100618911865342725257953674027620225198320803878014774228964841274390400117588618041128947815623094438061566173054086674490506178125480344405547054397038895817465368254916136220830268563778582290228416398307887896918556404084898937609373242171846359938695516765018940588109060426089671438864102814350385648747165832010614366132173102768902855220001"
      ]
     },
     "execution_count": 5,
     "metadata": {},
     "output_type": "execute_result"
    }
   ],
   "source": [
    "3**1000"
   ]
  },
  {
   "cell_type": "markdown",
   "metadata": {
    "id": "nElbl28X5R5l"
   },
   "source": [
    "Le comprensioni di lista possono essere usate anche con predicati condizionali. In matematica, definiamo un insieme $S_1=\\{2,\\ldots{}, 100\\}$ e definiamo un altro insieme $S_2$ con tutti i numeri primi contenuti in $S_1$. In Python, possiamo ottenere questo risultato con:"
   ]
  },
  {
   "cell_type": "code",
   "execution_count": 7,
   "metadata": {
    "colab": {
     "base_uri": "https://localhost:8080/"
    },
    "executionInfo": {
     "elapsed": 282,
     "status": "ok",
     "timestamp": 1664540970347,
     "user": {
      "displayName": "Martina Doneda",
      "userId": "16137246309967274493"
     },
     "user_tz": -120
    },
    "id": "yknZJYyC5R5l",
    "outputId": "443e3281-784b-480b-804b-87278ab4a89c"
   },
   "outputs": [
    {
     "name": "stdout",
     "output_type": "stream",
     "text": [
      "[2, 3, 5, 7, 11, 13, 17, 19, 23, 29, 31, 37, 41, 43, 47, 53, 59, 61, 67, 71, 73, 79, 83, 89, 97]\n"
     ]
    }
   ],
   "source": [
    "S1 = range(2,101)\n",
    "S2 = [i for i in S1 if PrimeNumber(i)]\n",
    "print(S2)"
   ]
  },
  {
   "cell_type": "markdown",
   "metadata": {
    "id": "g_UIWNPg5R5l"
   },
   "source": [
    "Qui `S2` è definita come la lista di tutti gli `i` in `S1` tali per cui `PrimeNumber(i)` risulta in  `True`.\n",
    "\n",
    "Nel prossimo notebook vedremo i dizionari di Python's, un'altra struttura dati che sarà estremamente utile nella restante parte dei laboratori.\n",
    "\n",
    "Per esercitarvi, provate a scrivere una funzione che calcoli i primi 30 numeri di Fibonacci.  La sequenza di Fibonacci consiste di numeri  $(f_1, f_2, f_3, \\ldots{})$ tali per cui $f_1 = f_2 = 1$ e $f_k = f_{k-1} + f_{k-2}$. Canonicamente, $f_1 = 1$."
   ]
  },
  {
   "cell_type": "code",
   "execution_count": 10,
   "metadata": {
    "id": "cY81N74P5R5l"
   },
   "outputs": [
    {
     "name": "stdout",
     "output_type": "stream",
     "text": [
      "55\n"
     ]
    }
   ],
   "source": [
    "def fib(x):\n",
    "    if (x <= 2):\n",
    "        return 1\n",
    "    a = 1\n",
    "    b = 1\n",
    "    for i in range(x-2):\n",
    "        tmp = a + b\n",
    "        a = b\n",
    "        b = tmp\n",
    "    return b\n",
    "\n",
    "print(fib(10))"
   ]
  }
 ],
 "metadata": {
  "colab": {
   "provenance": []
  },
  "kernelspec": {
   "display_name": "Python 3 (ipykernel)",
   "language": "python",
   "name": "python3"
  },
  "language_info": {
   "codemirror_mode": {
    "name": "ipython",
    "version": 3
   },
   "file_extension": ".py",
   "mimetype": "text/x-python",
   "name": "python",
   "nbconvert_exporter": "python",
   "pygments_lexer": "ipython3",
   "version": "3.12.6"
  }
 },
 "nbformat": 4,
 "nbformat_minor": 1
}
