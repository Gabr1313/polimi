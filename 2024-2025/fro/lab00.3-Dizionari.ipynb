{
 "cells": [
  {
   "cell_type": "markdown",
   "metadata": {
    "id": "zPUEGEYpBBT3"
   },
   "source": [
    "## Dizionari\n",
    "\n",
    "Un dizionario in Python associa uno di molti oggetti (stringa, intero, ecc.) con un altro oggetto. I dizionari sono un modo efficace per rappresentare la corrispondenza tra due set. Un esempio di dizionario è il seguente:"
   ]
  },
  {
   "cell_type": "code",
   "execution_count": 2,
   "metadata": {
    "executionInfo": {
     "elapsed": 3,
     "status": "ok",
     "timestamp": 1664541058879,
     "user": {
      "displayName": "Martina Doneda",
      "userId": "16137246309967274493"
     },
     "user_tz": -120
    },
    "id": "qIxjoRC1BBT7"
   },
   "outputs": [],
   "source": [
    "age = {\"John\": 23, \"Aysha\": 15, \"Malick\": 44}"
   ]
  },
  {
   "cell_type": "markdown",
   "metadata": {
    "id": "RPVuDHaaBBT9"
   },
   "source": [
    "La sintassi è abbastanza intuitiva: tra graffe abbiamo una lista di coppie separate da una virgola, nella forma `chiave: valore`. Un dizionario può essere inizializzato vuoto, come in `d = {}`, per poi aggiungere coppie chiave/valore. Nel dizionario `age`, \"Aysha\" è una chiave e 15 è il suo valore associato. Possiamo accedere all'età di John scrivendo `age[\"John\"]`. Nuove coppie chiavi/valore possono essere aggiunte con `age[\"Carlos\"] = 22` e chiavi esistenti possono assumere un nuovo valore, ad esempio scrivendo: `age[\"Malick\"] = 32`.\n",
    "\n",
    "La funzione `keys()` restituisce una __lista__ di tutte le chiavi nel dizionario, mentre `values()` restituisce una lista di tutti i valori in esso contenuti. `items()`, invece, restiuisce tutto il contenuto del dizionario, ovvero tutte le coppie chiave/valore. Tutte queste funzioni ci danno un metodo per iterare tutti gli elementi."
   ]
  },
  {
   "cell_type": "code",
   "execution_count": 3,
   "metadata": {
    "colab": {
     "base_uri": "https://localhost:8080/"
    },
    "executionInfo": {
     "elapsed": 324,
     "status": "ok",
     "timestamp": 1664541131427,
     "user": {
      "displayName": "Martina Doneda",
      "userId": "16137246309967274493"
     },
     "user_tz": -120
    },
    "id": "OvLwRfU7BBT-",
    "outputId": "12b21b35-df3e-4e2c-af42-4f275fd61172"
   },
   "outputs": [
    {
     "name": "stdout",
     "output_type": "stream",
     "text": [
      "23\n",
      "Chiavi del dizionario: dict_keys(['John', 'Aysha', 'Malick', 'Mohit'])\n",
      "Valori: dict_values([25, 15, 44, 40])\n",
      "Tuple chiavi/valori: dict_items([('John', 25), ('Aysha', 15), ('Malick', 44), ('Mohit', 40)])\n",
      "John ha 25 anni\n",
      "Aysha ha 15 anni\n",
      "Malick ha 44 anni\n",
      "Mohit ha 40 anni\n"
     ]
    }
   ],
   "source": [
    "print(age[\"John\"])\n",
    "\n",
    "age['Mohit'] = 40\n",
    "age['John'] = 25\n",
    "\n",
    "print(f\"Chiavi del dizionario: {age.keys()}\")\n",
    "print(f\"Valori: {age.values()}\")\n",
    "print(f\"Tuple chiavi/valori: {age.items()}\")\n",
    "\n",
    "for i in age.keys():\n",
    "    print (f\"{i} ha {age[i]} anni\")"
   ]
  },
  {
   "cell_type": "markdown",
   "metadata": {
    "id": "94vMk95IBBT_"
   },
   "source": [
    "I dizionari in Python sono particolarmente utili perché ne avremo bisogno per associare gli elementi di uno o poù set definendo un problema di ottimizzazione con una variabile o un vincolo. Sono una delle strutture dati più efficienti e possono essere usati al posto delle liste quando l'indice del set non è una lista di numeri consecutivi."
   ]
  },
  {
   "cell_type": "code",
   "execution_count": 3,
   "metadata": {
    "colab": {
     "base_uri": "https://localhost:8080/"
    },
    "executionInfo": {
     "elapsed": 549,
     "status": "ok",
     "timestamp": 1664541151668,
     "user": {
      "displayName": "Martina Doneda",
      "userId": "16137246309967274493"
     },
     "user_tz": -120
    },
    "id": "5oZp3hLZBBT_",
    "outputId": "70b26167-931a-4dbd-f65e-806f50b3b257"
   },
   "outputs": [
    {
     "name": "stdout",
     "output_type": "stream",
     "text": [
      "Paesi con una 'n' nel loro nome: ['Denmark', 'Finland', 'France', 'Germany', 'Netherlands']\n",
      "Popolazione totale in questi paesi: 179.262 milioni\n"
     ]
    }
   ],
   "source": [
    "population = {\n",
    "\"Austria\": 8901,\n",
    "\"Belgium\": 11493,\n",
    "\"Denmark\": 5823,\n",
    "\"Finland\": 5536,\n",
    "\"France\":  67287,\n",
    "\"Germany\": 83191,\n",
    "\"Italy\":   59258,\n",
    "\"Netherlands\": 17425,\n",
    "\"Norway\": 5368}\n",
    "\n",
    "n_names = [country for country in population.keys() if 'n' in country]\n",
    "n_pop = sum(population[country] for country in n_names)  # sum() calcola la somma di tutti gli argomenti\n",
    "\n",
    "print(f\"Paesi con una 'n' nel loro nome: {n_names}\")\n",
    "print(f\"Popolazione totale in questi paesi: {n_pop/1000} milioni\")"
   ]
  },
  {
   "cell_type": "markdown",
   "metadata": {
    "id": "sEdxWFGIBBUA"
   },
   "source": [
    "__Esercizio__: \n",
    "Stampate la popolazione _media_ di tutti i paesi il cui nome finisce in 'y', e poi stampate la _massima_ popolazione fra tutti i paesi il cui nome è composto di 7 lettere. Tutto ciò che vi serve sapere è:\n",
    "* La lunghezza di una stringa `s` è dato da `len(s)`;\n",
    "* L'ultimo carattere di una stringa `s` si ottiene con `s[-1]`;\n",
    "* Il più grande elemento di una lista `l` è dato da `max(l)`."
   ]
  },
  {
   "cell_type": "code",
   "execution_count": null,
   "metadata": {
    "id": "JPdhJaGaBBUB"
   },
   "outputs": [],
   "source": []
  },
  {
   "cell_type": "markdown",
   "metadata": {
    "id": "GUf3h-k5BBUB"
   },
   "source": [
    "### Tuple\n",
    "\n",
    "Prima di continuare con i dizionari, pariamo di un'altra utile struttura dati: le tuple. Sono delle sequenze di oggetti __fisse__, a differenza delle liste e dei dizionari a cui possiamo aggiungere, togliere o modificare uno o più elementi. Una tupla è definita come `t = (a1, a2, a3, ...)` e può avere tanti elementi quanti ne vogliamo, ma una volta creata non può essere modificata. Possiamo accedere ai suoi elementi uno ad uno usando degli indici: `t[0]`, `t[1]`...\n",
    "\n"
   ]
  },
  {
   "cell_type": "code",
   "execution_count": 4,
   "metadata": {
    "colab": {
     "base_uri": "https://localhost:8080/"
    },
    "executionInfo": {
     "elapsed": 289,
     "status": "ok",
     "timestamp": 1664541235123,
     "user": {
      "displayName": "Martina Doneda",
      "userId": "16137246309967274493"
     },
     "user_tz": -120
    },
    "id": "heklNpl_BBUC",
    "outputId": "1151e132-4e2e-444b-d280-33bb278b6211"
   },
   "outputs": [
    {
     "name": "stdout",
     "output_type": "stream",
     "text": [
      "3\n",
      "[1, 2, 8, 4]\n"
     ]
    }
   ],
   "source": [
    "a = [1,2,3,4]\n",
    "print(a[2])\n",
    "a[2] = 8\n",
    "print(a)"
   ]
  },
  {
   "cell_type": "code",
   "execution_count": 6,
   "metadata": {
    "colab": {
     "base_uri": "https://localhost:8080/"
    },
    "executionInfo": {
     "elapsed": 3,
     "status": "ok",
     "timestamp": 1664541278430,
     "user": {
      "displayName": "Martina Doneda",
      "userId": "16137246309967274493"
     },
     "user_tz": -120
    },
    "id": "JJEMTOrsBBUD",
    "outputId": "444d5c0f-f073-4977-92c2-736ed4a93c29"
   },
   "outputs": [
    {
     "name": "stdout",
     "output_type": "stream",
     "text": [
      "3\n",
      "(1, 2, 3, 4)\n"
     ]
    }
   ],
   "source": [
    "a = (1,2,3,4)  # Questa è una tupla, non una lista. Notate le parentesi\n",
    "print(a[2])\n",
    "#a[2] = 8  #  Questo comando risulta in un errore\n",
    "print(a)"
   ]
  },
  {
   "cell_type": "markdown",
   "metadata": {
    "id": "xc6Z2ztHBBUD"
   },
   "source": [
    "## Dizionari (ancora)\n",
    "\n",
    "In maniera simile alle liste, i dizionari possono essere creati in maniera implicita con una condizione, invece di enumerare tutte le coppie chiave/valore."
   ]
  },
  {
   "cell_type": "code",
   "execution_count": 7,
   "metadata": {
    "colab": {
     "base_uri": "https://localhost:8080/"
    },
    "executionInfo": {
     "elapsed": 334,
     "status": "ok",
     "timestamp": 1664541300698,
     "user": {
      "displayName": "Martina Doneda",
      "userId": "16137246309967274493"
     },
     "user_tz": -120
    },
    "id": "bgcVOZLpBBUE",
    "outputId": "70118634-e071-491e-c56c-5339fed77a3b"
   },
   "outputs": [
    {
     "name": "stdout",
     "output_type": "stream",
     "text": [
      "{'里見': 2, 'Michel': 6, 'João': 4, 'मोहित': 5}\n"
     ]
    }
   ],
   "source": [
    "names = [\"里見\", \"Michel\", \"João\", \"मोहित\"]\n",
    "namelength = {i: len(i) for i in names}\n",
    "print(namelength)"
   ]
  },
  {
   "cell_type": "markdown",
   "metadata": {
    "id": "i5PeSpuNBBUE"
   },
   "source": [
    "Un dizionario può avere delle tuple come chiavi, ma non liste (ecco perché è utile sapere come usare le tuple). Ad esempio, il dizionario `{(1,2): 12, (3,6): 2, (6,4): 4}` associa a delle tuple dei numeri.\n",
    "\n",
    "Ora ne creiamo uno che associa ad una tupla di $(x,y)$ coordinate cartesiane una tupla corrispondente $(\\rho,\\theta)$ di coordinate polari: $\\rho = \\sqrt{x^2 + y^2}$, $\\theta = \\arctan{y/x}$."
   ]
  },
  {
   "cell_type": "code",
   "execution_count": 8,
   "metadata": {
    "colab": {
     "base_uri": "https://localhost:8080/"
    },
    "executionInfo": {
     "elapsed": 242,
     "status": "ok",
     "timestamp": 1664541367661,
     "user": {
      "displayName": "Martina Doneda",
      "userId": "16137246309967274493"
     },
     "user_tz": -120
    },
    "id": "4DnwGkYHBBUE",
    "outputId": "95fd25e2-b529-4360-defa-d89cf6ea1221"
   },
   "outputs": [
    {
     "name": "stdout",
     "output_type": "stream",
     "text": [
      "Coordinate polari per (3, 11): (11.40175425099138, 1.3045442776439713)\n",
      "Coordinate polari per (3, 17): (17.26267650163207, 1.396124127786657)\n",
      "Coordinate polari per (3, 22): (22.20360331117452, 1.4352686128093959)\n",
      "Coordinate polari per (3, 33): (33.13608305156178, 1.4801364395941514)\n",
      "Coordinate polari per (3, 34): (34.132096331752024, 1.4827889532671559)\n",
      "Coordinate polari per (3, 44): (44.10215414239989, 1.5027198685368972)\n",
      "Coordinate polari per (6, 11): (12.529964086141668, 1.0714496051147666)\n",
      "Coordinate polari per (6, 17): (18.027756377319946, 1.2315037123408519)\n",
      "Coordinate polari per (6, 22): (22.80350850198276, 1.3045442776439713)\n",
      "Coordinate polari per (6, 33): (33.54101966249684, 1.3909428270024184)\n",
      "Coordinate polari per (6, 34): (34.52535300326414, 1.396124127786657)\n",
      "Coordinate polari per (6, 44): (44.40720662234904, 1.4352686128093959)\n",
      "Coordinate polari per (7, 11): (13.038404810405298, 1.0040671092713902)\n",
      "Coordinate polari per (7, 17): (18.384776310850235, 1.1801892830972098)\n",
      "Coordinate polari per (7, 22): (23.08679276123039, 1.2627435457711202)\n",
      "Coordinate polari per (7, 33): (33.734255586866, 1.361773383988632)\n",
      "Coordinate polari per (7, 34): (34.713109915419565, 1.3677511095414314)\n",
      "Coordinate polari per (7, 44): (44.553338819890925, 1.4130275891989426)\n",
      "Coordinate polari per (9, 11): (14.212670403551895, 0.8850668158886104)\n",
      "Coordinate polari per (9, 17): (19.235384061671343, 1.0838970949836275)\n",
      "Coordinate polari per (9, 22): (23.769728648009426, 1.1824776086224307)\n",
      "Coordinate polari per (9, 33): (34.20526275297414, 1.3045442776439713)\n",
      "Coordinate polari per (9, 34): (35.17101079013795, 1.312025434831199)\n",
      "Coordinate polari per (9, 44): (44.91102314577124, 1.3690339824746096)\n"
     ]
    }
   ],
   "source": [
    "import math\n",
    "\n",
    "S1 = [i for i in range(1, 10) if i %  3 == 0 or i %  7 == 0]  # tutti i numeri divisibili per 3 o  7 (or entrambi)\n",
    "S2 = [i for i in range(1, 50) if i % 11 == 0 or i % 17 == 0]  # tutti i numeri divisibili per 11 o 17 (or entrambi)\n",
    "\n",
    "polar = {(i,j): (math.sqrt(i**2 + j**2), math.atan(j/i)) for i in S1 for j in S2}\n",
    "for i in polar.keys():\n",
    "    print(f\"Coordinate polari per {i}: {polar[i]}\")"
   ]
  },
  {
   "cell_type": "markdown",
   "metadata": {
    "id": "MM-3EPMfBBUF"
   },
   "source": [
    "__Esercizio__:\n",
    "* Completa la funzione sottostante che, dato un numero, restituisce un elenco di tutti i suoi fattori primi;\n",
    "* Crea un dizionario che associ ogni numero da 2 a 100 all'elenco dei suoi fattori primi usando la funzione `prime_factors`, definita di seguito; a esempio, con 57 dovremmo associare `[3, 19]`;\n",
    "* Creare un dizionario che associ, ad ogni numero $k$ da 2 a 50, il numero di numeri positivi inferiori a 100 di cui $k$ è un fattore primo; per esempio, a 7 dovremmo associare 14 perché 7 è un fattore primo di 14 numeri positivi inferiori a 100 (7, 14, 21, 28, 35, 42, 49, 56, 63, 70, 77, 84, 91 e 98).\n"
   ]
  },
  {
   "cell_type": "code",
   "execution_count": 15,
   "metadata": {
    "id": "5FLN_V_hBBUF"
   },
   "outputs": [
    {
     "name": "stdout",
     "output_type": "stream",
     "text": [
      "{2: [2], 3: [3], 4: [2], 5: [5], 6: [2, 3], 7: [7], 8: [2], 9: [3], 10: [2, 5], 11: [11], 12: [2, 3], 13: [13], 14: [2, 7], 15: [3, 5], 16: [2], 17: [17], 18: [2, 3], 19: [19], 20: [2, 5], 21: [3, 7], 22: [2, 11], 23: [23], 24: [2, 3], 25: [5], 26: [2, 13], 27: [3], 28: [2, 7], 29: [29], 30: [2, 3, 5], 31: [31], 32: [2], 33: [3, 11], 34: [2, 17], 35: [5, 7], 36: [2, 3], 37: [37], 38: [2, 19], 39: [3, 13], 40: [2, 5], 41: [41], 42: [2, 3, 7], 43: [43], 44: [2, 11], 45: [3, 5], 46: [2, 23], 47: [47], 48: [2, 3], 49: [7], 50: [2, 5], 51: [3, 17], 52: [2, 13], 53: [53], 54: [2, 3], 55: [5, 11], 56: [2, 7], 57: [3, 19], 58: [2, 29], 59: [59], 60: [2, 3, 5], 61: [61], 62: [2, 31], 63: [3, 7], 64: [2], 65: [5, 13], 66: [2, 3, 11], 67: [67], 68: [2, 17], 69: [3, 23], 70: [2, 5, 7], 71: [71], 72: [2, 3], 73: [73], 74: [2, 37], 75: [3, 5], 76: [2, 19], 77: [7, 11], 78: [2, 3, 13], 79: [79], 80: [2, 5], 81: [3], 82: [2, 41], 83: [83], 84: [2, 3, 7], 85: [5, 17], 86: [2, 43], 87: [3, 29], 88: [2, 11], 89: [89], 90: [2, 3, 5], 91: [7, 13], 92: [2, 23], 93: [3, 31], 94: [2, 47], 95: [5, 19], 96: [2, 3], 97: [97], 98: [2, 7], 99: [3, 11]}\n",
      "{2: 49, 3: 33, 4: 0, 5: 19, 6: 0, 7: 14, 8: 0, 9: 0, 10: 0, 11: 9, 12: 0, 13: 7, 14: 0, 15: 0, 16: 0, 17: 5, 18: 0, 19: 5, 20: 0, 21: 0, 22: 0, 23: 4, 24: 0, 25: 0, 26: 0, 27: 0, 28: 0, 29: 3, 30: 0, 31: 3, 32: 0, 33: 0, 34: 0, 35: 0, 36: 0, 37: 2, 38: 0, 39: 0, 40: 0, 41: 2, 42: 0, 43: 2, 44: 0, 45: 0, 46: 0, 47: 2, 48: 0, 49: 0}\n"
     ]
    }
   ],
   "source": [
    "import math\n",
    "\n",
    "def prime_factors(n):\n",
    "    factors = []\n",
    "    decomp = n\n",
    "    i = 2\n",
    "    while i <= decomp and i <= n:\n",
    "        while decomp % i == 0:\n",
    "            decomp = decomp / i\n",
    "            if i not in factors:\n",
    "                # TODO: aggiungere istruzione che accodi i a \"factors\"\n",
    "                factors.append(i)\n",
    "        i += 1\n",
    "    return factors\n",
    "def cnt(n):\n",
    "    ret = 0\n",
    "    for i in range(2,100):\n",
    "        if n in prime_factors(i):\n",
    "            ret+=1\n",
    "    return ret\n",
    "            \n",
    "pp = {i: prime_factors(i) for i in range(2,100)}\n",
    "print(pp)\n",
    "qq = {i: cnt(i) for i in range(2,50)}\n",
    "print(qq)"
   ]
  },
  {
   "cell_type": "code",
   "execution_count": null,
   "metadata": {
    "id": "m5w1v-eXBBUF"
   },
   "outputs": [],
   "source": []
  },
  {
   "cell_type": "markdown",
   "metadata": {
    "id": "5FqktC47BBUF"
   },
   "source": [
    "## Notebook e ordine di valutazione\n",
    "\n",
    "Quando vengono valutate le celle Python in un Notebook, il risultato viene conservato per un uso successivo. Quindi, quando la cella con la funzione `prime_factors` sopra viene valutata con `ctrl + enter`, la funzione è nota in ogni cella che viene eseguita dopo di essa, e gli insiemi `S1` e `S2` nella prima cella che abbiamo eseguito in questo notebook vengono ricordati per la sua intera durata.\n",
    "\n",
    "Allo stesso modo, se non abbiamo valutato una cella contenente oggetti che utilizziamo in un'altra cella, non possiamo valutare quest'ultima o verrà generato un errore.\n",
    "\n",
    "Se valutiamo una cella due o più volte, questo avrà lo stesso effetto di eseguire lo stesso pezzo di codice molteplici volte, quindi se una cella contiene l'istruzione `l.append(3)` e viene eseguita quattro volte, la lista `l` avrà quattro \"3\" aggiunti in coda.\n",
    "\n",
    "Se desiderate ripristinare l'esecuzione e iniziare la valutazione di qualsiasi cella da zero, si può selezionare una delle opzioni \"Riavvia runtime\" nel menu \"Runtime\". Questo __non__ cancellerà alcun testo o codice nelle celle, ma eliminerà tutto l'output generato, ad esempio tutto l'output delle istruzioni `print`.\n",
    "\n",
    "Se si sta eseguendo un loop che non sembra funzionare, e la cui esecuzione è lunga, ne si può interrompere l'esecuzione con l'icona del quadrato nero in alto."
   ]
  }
 ],
 "metadata": {
  "colab": {
   "provenance": []
  },
  "kernelspec": {
   "display_name": "Python 3 (ipykernel)",
   "language": "python",
   "name": "python3"
  },
  "language_info": {
   "codemirror_mode": {
    "name": "ipython",
    "version": 3
   },
   "file_extension": ".py",
   "mimetype": "text/x-python",
   "name": "python",
   "nbconvert_exporter": "python",
   "pygments_lexer": "ipython3",
   "version": "3.12.6"
  }
 },
 "nbformat": 4,
 "nbformat_minor": 1
}
